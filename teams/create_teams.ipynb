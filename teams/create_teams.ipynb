{
 "cells": [
  {
   "cell_type": "code",
   "execution_count": 1,
   "metadata": {},
   "outputs": [],
   "source": [
    "import pandas as pd\n",
    "import numpy as np \n",
    "import random"
   ]
  },
  {
   "cell_type": "code",
   "execution_count": 2,
   "metadata": {},
   "outputs": [],
   "source": [
    "team_names = ['Team Alan Turing', 'Team Donald Knuth', \n",
    "              'Team Ada Lovelace', 'Team Reverend Thomas Bayes', \n",
    "              'Team Andrey Markov', 'Team Grace Hopper', \n",
    "              'Team Marvin Minsky', 'Team John McCarthy',\n",
    "              'Team Claude Shannon', 'Team Maryam Mirzakhani',\n",
    "              'Team Karl Pearson', 'Team Karl Friedrich Gauss', \n",
    "              'Team Johan Bernoulli', 'Team Florence Nightingale',\n",
    "              'Team Andrey Kolmogorov', 'Team Francis Galton',\n",
    "              'Team Augustin-Louis Cauchy', 'Team Ronald Fisher', \n",
    "              'Team Annie Easley','Team Noam Chomsky',              \n",
    "              'Team Pierre-Simon Laplace','Team Isaac Newton',              \n",
    "              'Team Saturday @6', 'Team quiz week',              \n",
    "             ]\n",
    "random.seed(44)\n",
    "random.shuffle(team_names)"
   ]
  },
  {
   "cell_type": "code",
   "execution_count": 3,
   "metadata": {},
   "outputs": [],
   "source": [
    "# The CSV containing students and their sections. \n",
    "df = pd.read_csv(\"../../../common/GitHubLMS/data/v_students2019_blocks-5-6.csv\")"
   ]
  },
  {
   "cell_type": "code",
   "execution_count": 4,
   "metadata": {},
   "outputs": [
    {
     "data": {
      "text/plain": [
       "L01    47\n",
       "L02    47\n",
       "Name: lab, dtype: int64"
      ]
     },
     "execution_count": 4,
     "metadata": {},
     "output_type": "execute_result"
    }
   ],
   "source": [
    "# Group students by their sections\n",
    "grps = df.groupby('lab')\n",
    "\n",
    "# How many students in each section? \n",
    "df['lab'].value_counts()"
   ]
  },
  {
   "cell_type": "code",
   "execution_count": 5,
   "metadata": {},
   "outputs": [],
   "source": [
    "# Decide how many teams do you want in each section\n",
    "L01_NTEAMS = 12\n",
    "L02_NTEAMS = 12"
   ]
  },
  {
   "cell_type": "code",
   "execution_count": 6,
   "metadata": {},
   "outputs": [],
   "source": [
    "# Create dataframes for different sections\n",
    "L01_df = grps.get_group('L01')\n",
    "L02_df = grps.get_group('L02')"
   ]
  },
  {
   "cell_type": "code",
   "execution_count": 7,
   "metadata": {},
   "outputs": [],
   "source": [
    "def shuffle_and_make_teams(df, nteams=12):\n",
    "    \"\"\"\n",
    "    Given a pandas dataframe df and the number of expected teams nteams, \n",
    "    this function shuffles the rows in the dataframe assigns an appropriate \n",
    "    team id to each row.\n",
    "    \n",
    "    Argumeents\n",
    "    \n",
    "    df -- (pandas DataFrame) a dataframe from a section where you want to form teams \n",
    "    nteams -- (int) the number of teams you want to create (default=12)\n",
    "    \n",
    "    Return \n",
    "    df -- (pandas DataFrame)\n",
    "    \"\"\"\n",
    "    global team_id\n",
    "    dfs = []\n",
    "    # passing random state just to make it reproducible. \n",
    "    df_shuffled = df.sample(frac=1.0, random_state = 44)\n",
    "    group_dfs = np.array_split(df_shuffled, indices_or_sections=nteams)\n",
    "    for gdf in group_dfs:\n",
    "        gdf['team_id'] = team_id\n",
    "        gdf['team_name'] = team_names[team_id-1]\n",
    "        team_id += 1\n",
    "        dfs.append(gdf)\n",
    "    return pd.concat(dfs)"
   ]
  },
  {
   "cell_type": "code",
   "execution_count": 8,
   "metadata": {},
   "outputs": [],
   "source": [
    "team_id = 1\n",
    "L01_teams_df = shuffle_and_make_teams(L01_df, nteams=L01_NTEAMS)\n",
    "L02_teams_df = shuffle_and_make_teams(L02_df, nteams=L02_NTEAMS)\n",
    "\n",
    "final_teams_df = pd.concat([L01_teams_df, L02_teams_df])"
   ]
  },
  {
   "cell_type": "code",
   "execution_count": 9,
   "metadata": {},
   "outputs": [],
   "source": [
    "final_teams_df.to_csv('teams.csv', \n",
    "                      columns=['surname','given_name',\n",
    "                               'lab', 'cwl', 'team_id', 'team_name'], \n",
    "                      index=False)"
   ]
  },
  {
   "cell_type": "code",
   "execution_count": null,
   "metadata": {},
   "outputs": [],
   "source": []
  }
 ],
 "metadata": {
  "kernelspec": {
   "display_name": "Python 3",
   "language": "python",
   "name": "python3"
  },
  "language_info": {
   "codemirror_mode": {
    "name": "ipython",
    "version": 3
   },
   "file_extension": ".py",
   "mimetype": "text/x-python",
   "name": "python",
   "nbconvert_exporter": "python",
   "pygments_lexer": "ipython3",
   "version": "3.6.8"
  }
 },
 "nbformat": 4,
 "nbformat_minor": 4
}
