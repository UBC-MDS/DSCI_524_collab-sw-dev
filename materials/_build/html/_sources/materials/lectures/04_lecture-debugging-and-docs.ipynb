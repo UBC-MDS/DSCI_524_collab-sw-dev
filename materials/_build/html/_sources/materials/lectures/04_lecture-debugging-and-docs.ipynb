{
 "cells": [
  {
   "cell_type": "markdown",
   "metadata": {
    "slideshow": {
     "slide_type": "slide"
    }
   },
   "source": [
    "# Lecture 4: Code coverage & package dependencies"
   ]
  },
  {
   "cell_type": "markdown",
   "metadata": {
    "slideshow": {
     "slide_type": "slide"
    }
   },
   "source": [
    "## Learning objectives:\n",
    "By the end of this lecture, students should be able to:\n",
    "\n",
    "- Define code, test and branch coverage, and explain why high coverage in each of these metrics is desired.\n",
    "- Calculate code coverage in R and Python\n",
    "- Manage package dependencies in R and Python packages"
   ]
  },
  {
   "cell_type": "markdown",
   "metadata": {
    "slideshow": {
     "slide_type": "slide"
    }
   },
   "source": [
    "## Coverage\n",
    "\n",
    "**Definition:** Proportion of system being executed by the test suite.\n",
    "\n",
    "- usually reported as a percentage: $$Coverage = \\frac{covered}{(covered + uncovered)} * 100$$\n",
    "\n"
   ]
  },
  {
   "cell_type": "markdown",
   "metadata": {
    "slideshow": {
     "slide_type": "slide"
    }
   },
   "source": [
    "### Coverage metrics:\n",
    "\n",
    "There are many, but here are the ones our automated tools in this course will calculate for you:\n",
    "\n",
    "| Metric | Description                           | Dependent upon control flow |\n",
    "|--------|---------------------------------------|-----------------------------|\n",
    "| line   | lines of code that tests execute      | No                          |\n",
    "| branch | number of branches (independent code segments) that tests execute | Yes                         |\n"
   ]
  },
  {
   "cell_type": "markdown",
   "metadata": {
    "slideshow": {
     "slide_type": "slide"
    }
   },
   "source": [
    "### What exactly is a branch?\n",
    "\n",
    "```\n",
    "def my_function(x):\n",
    "    # Branch 1\n",
    "    if condition_met:\n",
    "        y = function_a(x)\n",
    "        z = function_b(y)\n",
    "    # Branch 2\n",
    "    else: \n",
    "        y = function_b(x)\n",
    "        z = function_c(y)\n",
    "    return z\n",
    "```\n",
    "\n",
    "*Adapted from: <http://www.ncover.com/blog/code-coverage-metrics-branch-coverage/>*"
   ]
  },
  {
   "cell_type": "markdown",
   "metadata": {
    "slideshow": {
     "slide_type": "slide"
    }
   },
   "source": [
    "## How are line and branch coverage different?\n",
    "\n",
    "Consider the same example we just saw and the unit test below, let's manually calculate the coverage using line and branch coverage metrics:\n",
    "\n",
    "```\n",
    "def my_function(x):\n",
    "    # Branch 1\n",
    "    if x == \"pony\":\n",
    "        y = function_a(x)\n",
    "        z = function_b(y)\n",
    "    # Branch 2\n",
    "    else: \n",
    "        y = function_c(x)\n",
    "        w = function_d(y)\n",
    "        z = function_e(y)\n",
    "    return z\n",
    "```\n",
    "\n",
    "```\n",
    "def test_my_function():\n",
    "    assert my_function(\"pony\") == (\"Actually a unicorn\")\n",
    "```\n",
    "\n",
    "*Note: function definitions are not counted as lines when calculating coverage*"
   ]
  },
  {
   "cell_type": "markdown",
   "metadata": {
    "slideshow": {
     "slide_type": "notes"
    }
   },
   "source": [
    "#### Using branch as the coverage metric:\n",
    "\n",
    "$Coverage = \\frac{covered}{(covered + uncovered)} * 100$\n",
    "\n",
    "$Coverage = \\frac{1}{(1 + 1)} * 100$\n",
    "\n",
    "$Coverage = 50\\%$"
   ]
  },
  {
   "cell_type": "markdown",
   "metadata": {
    "slideshow": {
     "slide_type": "notes"
    }
   },
   "source": [
    "#### Using line as the coverage metric:\n",
    "\n",
    "$Coverage = \\frac{covered}{(covered + uncovered)} * 100$\n",
    "\n",
    "$Coverage = \\frac{4}{(4 + 4)} * 100$\n",
    "\n",
    "$Coverage = 50\\%$"
   ]
  },
  {
   "cell_type": "markdown",
   "metadata": {
    "slideshow": {
     "slide_type": "slide"
    }
   },
   "source": [
    "### But wait, line coverage can be misleading... \n",
    "\n",
    "Let's alter our function and re-calculate line and branch coverage:\n",
    "\n",
    "```\n",
    "def my_function(x):\n",
    "    # Branch 1\n",
    "    if x == \"pony\":\n",
    "        y = function_a(x)\n",
    "        z = function_b(y)\n",
    "        print(z)\n",
    "        print(\"some important message\")\n",
    "        print(\"another important message\")\n",
    "        print(\"a less important message\")\n",
    "        print(\"just makin' stuff up here...\")\n",
    "        print(\"out of things to say...\")\n",
    "        print(\"how creative can I be...\")\n",
    "        print(\"I guess not very...\")\n",
    "    # Branch 2\n",
    "    else: \n",
    "        y = function_c(x)\n",
    "        w = function_d(y)\n",
    "        z = function_e(y)\n",
    "    return z\n",
    "```\n",
    "\n",
    "```\n",
    "def test_my_function():\n",
    "    assert my_function(\"pony\") == (\"Actually a unicorn\")\n",
    "```"
   ]
  },
  {
   "cell_type": "markdown",
   "metadata": {
    "slideshow": {
     "slide_type": "notes"
    }
   },
   "source": [
    "#### Using branch as the coverage metric:\n",
    "\n",
    "$Coverage = \\frac{covered}{(covered + uncovered)} * 100$\n",
    "\n",
    "$Coverage = \\frac{1}{(1 + 1)} * 100$\n",
    "\n",
    "$Coverage = 50\\%$"
   ]
  },
  {
   "cell_type": "markdown",
   "metadata": {
    "slideshow": {
     "slide_type": "notes"
    }
   },
   "source": [
    "#### Using line as the coverage metric:\n",
    "\n",
    "$Coverage = \\frac{covered}{(covered + uncovered)} * 100$\n",
    "\n",
    "$Coverage = \\frac{12}{(12 + 4)} * 100$\n",
    "\n",
    "$Coverage = 75\\%$\n",
    "\n",
    "🤯"
   ]
  },
  {
   "cell_type": "markdown",
   "metadata": {
    "slideshow": {
     "slide_type": "slide"
    }
   },
   "source": [
    "### Take home message:\n",
    "\n",
    "Use branch coverage when you can, especially if your code uses control flow!"
   ]
  },
  {
   "cell_type": "markdown",
   "metadata": {
    "slideshow": {
     "slide_type": "slide"
    }
   },
   "source": [
    "### Calculating coverage in Python\n",
    "\n",
    "We use the plugin  tool [`pytest-cov`](https://github.com/pytest-dev/pytest-cov) to do this. \n",
    "\n",
    "Install as a package dependency via poetry:\n",
    "```\n",
    "poetry add --dev pytest-cov\n",
    "```"
   ]
  },
  {
   "cell_type": "markdown",
   "metadata": {
    "slideshow": {
     "slide_type": "slide"
    }
   },
   "source": [
    "### Calculating coverage in Python\n",
    "\n",
    "To calculate line coverage and print it to the terminal:\n",
    "```\n",
    "poetry run pytest --cov=<project_slug> \n",
    "```\n",
    "\n",
    "To calculate line coverage and print it to the terminal:\n",
    "```\n",
    "poetry run pytest --cov-branch --cov=<project_slug>\n",
    "```\n",
    "\n",
    "Next week we will learn to use GitHub actions to link this to [codecov.io](https://codecov.io/) to get a shiny button ✨ that advertises your code coverage!"
   ]
  },
  {
   "cell_type": "markdown",
   "metadata": {
    "slideshow": {
     "slide_type": "slide"
    }
   },
   "source": [
    "### Exercise: Calculate coverage in Python\n",
    "\n",
    "Let's practice calculating coverage in Python!\n",
    "\n",
    "#### Steps:\n",
    "\n",
    "1. Fork & clone this GitHub repository: <https://github.com/ttimbers/big_abs> \n",
    "\n",
    "2. Using a command line, navigate to the root of this repository and run `poetry install`\n",
    "\n",
    "3. Calculate the line coverage and print it to the terminal via `poetry run pytest --cov=big_abs`\n",
    "\n",
    "4. Calculate the branch coverage and print it to the terminal via `poetry run pytest --cov-branch --cov=big_abs`\n",
    "\n"
   ]
  },
  {
   "cell_type": "markdown",
   "metadata": {
    "slideshow": {
     "slide_type": "slide"
    }
   },
   "source": [
    "### How does `coverage` in Python actually count line coverage?\n",
    "\n",
    "- the output from `poetry run pytest --cov=big_abs` gives a table that looks like this:\n",
    "\n",
    "```\n",
    "---------- coverage: platform darwin, python 3.7.6-final-0 -----------\n",
    "Name                  Stmts   Miss  Cover\n",
    "-----------------------------------------\n",
    "big_abs/__init__.py       1      0   100%\n",
    "big_abs/big_abs.py        8      2    75%\n",
    "-----------------------------------------\n",
    "TOTAL                     9      2    78%\n",
    "```\n",
    "\n",
    "In the column labelled as \"Stmts\", coverage is calculating all possible line jumps that could have been executed (these line jumps are sometimes called arcs). \n",
    "\n",
    "> Note - this leads coverage to count two statements on one line that are separated by a \";\" (e.g., print(\"hello\"); print(\"there\")) as one statement, as well as calculating a single statement that is spread across two lines as one statement. \n",
    "\n",
    "In the column labelled as \"Miss\", this is the number of line jumps not executed by the tests. \n",
    "\n",
    "The coverage percentage in this scenario is calculated by:\n",
    "$$Coverage = \\frac{(Stmts - Miss)}{Stmts}$$\n",
    "$$Coverage = \\frac{8 - 2}{8} * 100 = 75\\%$$"
   ]
  },
  {
   "cell_type": "markdown",
   "metadata": {
    "slideshow": {
     "slide_type": "slide"
    }
   },
   "source": [
    "### How does `coverage` in Python actually branch coverage?\n",
    "\n",
    "- the output from `poetry run pytest --cov-branch --cov=big_abs` gives a table that looks like this:\n",
    "\n",
    "```\n",
    "---------- coverage: platform darwin, python 3.7.6-final-0 -----------\n",
    "Name                  Stmts   Miss Branch BrPart  Cover\n",
    "-------------------------------------------------------\n",
    "big_abs/__init__.py       1      0      0      0   100%\n",
    "big_abs/big_abs.py        8      2      6      3    64%\n",
    "-------------------------------------------------------\n",
    "TOTAL                     9      2      6      3    67%\n",
    "```\n",
    "\n",
    "In the column labelled as \"Branch\", coverage is actually counting the number of possible jumps from branch points.\n",
    "\n",
    "> Note: because coverage is using line jumps to count branches, each `if` inherently has an `else` even if its not explicitly written in the code.\n",
    "\n",
    "In the column labelled as \"BrPart\", this is the number of of possible jumps from branch points executed by the tests.\n",
    "\n",
    "The branch coverage percentage in this tool is calculated by:\n",
    "\n",
    "$$Coverage = \\frac{(Stmts\\:executed + BrPart)}{(Stmts + Branch)}$$\n",
    "\n",
    "$$Coverage = \\frac{((Stmts - Miss) + BrPart)}{(Stmts + Branch)}$$\n",
    "\n",
    "So for `big_abs/big_abs.py` 64% was calculated from:\n",
    "$$Coverage = \\frac{((8 - 2) + 3)}{(8 + 6)} * 100 = 64\\%$$"
   ]
  },
  {
   "cell_type": "markdown",
   "metadata": {},
   "source": [
    "#### Want more details on the execution of Coverage?\n",
    "\n",
    "**Documentation**\n",
    "\n",
    "https://coverage.readthedocs.io/en/coverage-4.0.3/howitworks.html#execution\n",
    "\n",
    "**Source code:**\n",
    "\n",
    "https://github.com/nedbat/coveragepy/blob/4ce893437c9e777216cac981c5909572fa10d9df/coverage/results.py#L240\n",
    "\n",
    "```\n",
    "def ratio_covered(self):\n",
    "        \"\"\"Return a numerator and denominator for the coverage ratio.\"\"\"\n",
    "        numerator = self.n_executed + self.n_executed_branches\n",
    "        denominator = self.n_statements + self.n_branches\n",
    "        return numerator, denominator\n",
    "```"
   ]
  },
  {
   "cell_type": "markdown",
   "metadata": {},
   "source": [
    "### Coverage reports\n",
    "\n",
    "There is a very cool html report you can generate that will give you some more information about what lines and branches have been executed or not for each file. You can generate it via `poetry run pytest --cov-branch --cov=big_abs --cov-report html` and you will get a folder called `htmlcov` in the root directory of your project. \n",
    "\n",
    "From there you will see a table like we generated in the terminal, but you can click on the file to see more info that looks like this:\n",
    "\n",
    "\n",
    "```{figure} img/covr_html.png\n",
    "---\n",
    "width: 500px\n",
    "name: covr_html\n",
    "---\n",
    "```"
   ]
  },
  {
   "cell_type": "markdown",
   "metadata": {
    "slideshow": {
     "slide_type": "slide"
    }
   },
   "source": [
    "### Exercise: Improve branch coverage\n",
    "\n",
    "Let's add some additional test cases to improve the branch coverage for the `big_abs` Python package!\n",
    "\n",
    "#### Steps:\n",
    "1. Open `big_abs/big_abs.py` and `tests/test_big_abs.py` and identify the branch(es) that the current test case covers\n",
    "\n",
    "2. Add at least one new test case that will improve branch coverage. Prove this to yourself by calculating the branch coverage and print it to the terminal via `poetry run pytest --cov-branch --cov=big_abs`\n"
   ]
  },
  {
   "cell_type": "markdown",
   "metadata": {
    "slideshow": {
     "slide_type": "slide"
    }
   },
   "source": [
    "## Calculating coverage in R\n",
    "\n",
    "We use the [`covr`](https://covr.r-lib.org/) R package to do this. \n",
    "\n",
    "Install via R console:\n",
    "```\n",
    "install.packages(\"covr\")\n",
    "```"
   ]
  },
  {
   "cell_type": "markdown",
   "metadata": {
    "slideshow": {
     "slide_type": "slide"
    }
   },
   "source": [
    "To calculate line coverage and have it show in the viewer pane in RStudio:\n",
    "```\n",
    "covr::report()\n",
    "```\n",
    "\n",
    "Currently `covr` does not have the functionality to calculate branch coverage. Thus this is up to you in R to calculate this by hand if you really want to know. \n",
    "\n",
    "> Why has this not been implemented? It has been in an now unsupported package (see [here](https://github.com/MangoTheCat/testCoverage)), but its implementation was too complicated for others to understand. Automating the calculation of branch coverage is non-trivial, and this is a perfect demonstration of that."
   ]
  },
  {
   "cell_type": "markdown",
   "metadata": {
    "slideshow": {
     "slide_type": "slide"
    }
   },
   "source": [
    "## Dealing with other package dependencies in your package"
   ]
  },
  {
   "cell_type": "markdown",
   "metadata": {
    "slideshow": {
     "slide_type": "slide"
    }
   },
   "source": [
    "### Dealing with package dependencies in R\n",
    "\n",
    "- When we write code in our package that uses functions from other packages we need to import those functions from the namespace of their packages.\n",
    "\n",
    "- In R, we do this via `use_package`, which adds that package to the “Imports” section of DESCRIPTION\n",
    "\n",
    "- We also need to refer to that package in our function code, there are two ways to do this:\n",
    "  1. refer the function by `package::fun_name` (e.g., `dplyer::filter`) whenever you use the function in your code\n",
    "  2. add the function to your packages namespace so that you can just refer to it as your normally would. To do this add `@importFrom <package_name> <function_or_operator>` to the Roxygen documentation of the function that you would like to use the function from the other package in and then use `document()` to update the DESCRIPTION and NAMESPACE file. \n",
    "  \n",
    "*It is recommended to use method 1 (`pkg::fun_name`) because it is more explicit on what external functions your package code depends on (making it easier to read for collaborators, including future you). The trade off is that it’s a little more work to write.*"
   ]
  },
  {
   "cell_type": "markdown",
   "metadata": {
    "slideshow": {
     "slide_type": "slide"
    }
   },
   "source": [
    "### The pipe, `%>%`, a special dependency\n",
    "\n",
    "- Given the ubiquity of the pipe operator, `%>%`, in R, there is a function that automates exposing to your entire package: `usethis::use_pipe()`\n",
    "\n",
    "- Note, in general, the tidyverse team does not recommend using the pipe in packages unless they are personal, low use packages, or “pro” packages with a lot of data wrangling because:\n",
    "  - In most cases it is really an unnecessary dependency \n",
    "  - It is not that readable for folks who do not typically use the pipe\n",
    "  - makes debugging more challenging \n",
    "  \n",
    "So, should you use the pipe in your package? The answer is, it depends on your package's scope, aims and goals. Also, this is probably your first package, so it doesn't have to be perfect. If using the pipe helps you get the job done this time around, go for it. Just know that if you aim to ever build a widely used package, you probably do not want to depend on it."
   ]
  },
  {
   "cell_type": "markdown",
   "metadata": {
    "slideshow": {
     "slide_type": "slide"
    }
   },
   "source": [
    "### Dealing with package dependencies in Python\n",
    "\n",
    "- Given that we are using Poetry to manage our Python packages, we can take advantage of Poetry to manage our package dependencies. \n",
    "\n",
    "- To add a package dependency (one that our package functions depend on), we use `poetry add <package_name>`.\n",
    "\n",
    "- When we do this Poetry adds this depenedency to the `pyproject.toml` file under the `[tool.poetry.dependencies]` table as well as to the `poetry.lock` file.\n",
    "\n",
    "- Then we need to import these dependencies in our `.py` files where our functions live. Given that [PEP 08](https://www.python.org/dev/peps/pep-0008/) states that: _\"Imports are always put at the top of the file, just after any module comments and docstrings, and before module globals and constants.\"_ we typically do this at the very top of the file, even when we are writing code that will end up in a package.\n",
    "\n",
    "  > It is possible to import packages inside a function, and there is sound reasoning in doing so to make your code more readable, however, it goes against convention and so you need to get your whole team to agree to this if you want to do things this way."
   ]
  },
  {
   "cell_type": "markdown",
   "metadata": {
    "slideshow": {
     "slide_type": "slide"
    }
   },
   "source": [
    "### How does Poetry `install` use `pyproject.toml` & `poetry.lock`\n",
    "\n",
    "- The install command reads the `pyproject.toml` file from the current project, resolves the dependencies, and installs them.\n",
    "\n",
    "- If there is a `poetry.lock` file in the current directory, it will use the exact versions from there instead of resolving them. This ensures that everyone using the library will get the same versions of the dependencies.\n",
    "\n",
    "- If there is no `poetry.lock` file, Poetry will create one after dependency resolution.\n",
    "\n",
    "*Source: [Poetry install documentation](https://python-poetry.org/docs/cli/#install)*\n"
   ]
  },
  {
   "cell_type": "markdown",
   "metadata": {
    "slideshow": {
     "slide_type": "slide"
    }
   },
   "source": [
    "## Where are we headed next?\n",
    "\n",
    "- Package bells & whistles! Including\n",
    "    - Continuous integration\n",
    "    - Documentation\n",
    "    - Package versioning\n",
    "    - Package publishing"
   ]
  },
  {
   "cell_type": "markdown",
   "metadata": {
    "slideshow": {
     "slide_type": "notes"
    }
   },
   "source": [
    "## Extra materials\n",
    "\n",
    "### Helper/internal functions in R\n",
    "- [Helper/internal functions in R](https://www.r-bloggers.com/internal-functions-in-r-packages/)\n",
    "- [Testing helper/internal functions in R](https://github.com/r-lib/covr/issues/301)"
   ]
  }
 ],
 "metadata": {
  "celltoolbar": "Slideshow",
  "kernelspec": {
   "display_name": "Python 3",
   "language": "python",
   "name": "python3"
  },
  "language_info": {
   "codemirror_mode": {
    "name": "ipython",
    "version": 3
   },
   "file_extension": ".py",
   "mimetype": "text/x-python",
   "name": "python",
   "nbconvert_exporter": "python",
   "pygments_lexer": "ipython3",
   "version": "3.8.5"
  }
 },
 "nbformat": 4,
 "nbformat_minor": 4
}
