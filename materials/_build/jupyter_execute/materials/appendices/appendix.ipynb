{
 "cells": [
  {
   "cell_type": "markdown",
   "metadata": {},
   "source": [
    "# Appendix\n",
    "\n",
    "## Keeping your fork up to date with the main GitHub repository\n",
    "\n",
    "In this course you will be using a Fork-Pull Request workflow on GitHub, where the main GitHub repository is under the UBC-MDS organization and you have your own fork off of that. You will send your contributions from your own fork to the main repository as a pull request, and another team member will review and accept them. \n",
    "\n",
    "Inadvertently, your fork will fall behind the main repository in the UBC-MDS organization. Here's how you catch your repository back up:\n",
    "\n",
    "The first time you need to catch up, you have to tell your computer where the upstream repository (here the one in the UBC-MDS organization)  is: \n",
    "\n",
    "```\n",
    "git remote add upstream <original_repo_URL>\n",
    "```\n",
    "\n",
    "Then to catch up this time (and any other time) you type:\n",
    "\n",
    "```\n",
    "git fetch upstream\n",
    "git merge upstream/main\n",
    "```\n",
    "\n",
    "These two commands together are like a git pull from the repo you forked. And will update the repository on your laptop. To update your fork of the repository on GitHub.com you will need to push:\n",
    "\n",
    "```\n",
    "git push\n",
    "```"
   ]
  },
  {
   "cell_type": "markdown",
   "metadata": {},
   "source": [
    "## VS Code settings\n",
    "\n",
    "Recommended VS Code settings from Tom:\n",
    "\n",
    "```\n",
    "{\n",
    "    \"workbench.settings.editor\": \"json\",\n",
    "    \"python.linting.flake8Enabled\": true,\n",
    "    \"python.linting.pylintEnabled\": false,\n",
    "    \"workbench.settings.openDefaultSettings\": true,\n",
    "    \"workbench.settings.useSplitJSON\": true,\n",
    "    \"workbench.settings.openDefaultKeybindings\": true,\n",
    "    \"editor.formatOnSave\": true,\n",
    "    \"python.formatting.provider\": \"black\",\n",
    "    \"jupyter.sendSelectionToInteractiveWin\n",
    "}\n",
    "```"
   ]
  },
  {
   "cell_type": "markdown",
   "metadata": {},
   "source": [
    "## Using Python in RStudio\n",
    "\n",
    "### Mac & Linux users\n",
    "\n",
    "You can now use RStudio as an effective Python IDE. To do so, follow these steps after installing miniconda:\n",
    "\n",
    "1. Install the {reticulate} package: `install.packages(\"reticulate\")`\n",
    "\n",
    "2. Install the {png} package (a dependency of reticulate that is not well managed yet): `install.packages(\"png\")`\n",
    "\n",
    "3. Find your path to miniconda by typing `which python` in a terminal (Git Bash on Windows) outside of RStudio\n",
    "\n",
    "4. Specify that {reticulate} should use the miniconda version of Python in your `.Rprofile` file:\n",
    "\n",
    "  - type `usethis::edit_r_profile` into the R console inside RStudio, and an `.Rprofile` file from your HOME directory should open in RStudio\n",
    "  - add this to your `.Rprofile` file: `Sys.setenv(RETICULATE_PYTHON = \"path_to_miniconda's_python\")` replacing `\"path_to_miniconda's_python\"` with the path to your miniconda Python\n",
    "  \n",
    "5. In terminal type `code ~/.bash_profile` and add the line `export PATH=\"/opt/miniconda3/bin:$PATH\"`, replacing `/opt/miniconda3/bin` with the path to the folder containing your miniconda Python (be careful not to include `python` at the end of this path). \n",
    "  \n",
    "6. **Restart R!**\n",
    "\n",
    "7. Start using Python in RStudio by typing `repl_python()` in the R console, or running a line of Python code from a Python script from the RStudio editor by Cntrl + enter. Or by running scripts from the terminal inside RStudio.\n",
    "\n",
    "### Windows users\n",
    "\n",
    "1. Install the {reticulate} package: `install.packages(\"reticulate\")`\n",
    "\n",
    "2. Install the {png} package (a dependency of reticulate that is not well managed yet): `install.packages(\"png\")`\n",
    "\n",
    "3. Find your path to miniconda by typing `which python` in a terminal (Git Bash on Windows) outside of RStudio\n",
    "\n",
    "4. Specify that {reticulate} should use the miniconda version of Python in your `.Rprofile` file:\n",
    "\n",
    "  - type `usethis::edit_r_profile` into the R console inside RStudio, and an `.Rprofile` file from your HOME directory should open in RStudio\n",
    "  - add this to your `.Rprofile` file: `Sys.setenv(RETICULATE_PYTHON = \"path_to_miniconda's_python\")` replacing `\"path_to_miniconda's_python\"` with the path to your miniconda Python. In Windows, you need `\\\\` instead of a `\\` to separate the directories, for example my path here would be: `C:\\\\Users\\\\tiffany.timbers\\\\miniconda3\\\\python.exe`.\n",
    "  \n",
    "5. Open Global Options in RStudio and in the Terminal sub-menu, select \"Custom\" as the \"New terminals to open with\" option, and add the path to GitBash (should be something like `C:/Program Files/Git/bin/bash.exe`) as the \"Custom shell binary\" option. Finally set `-l` (lower case L) as the option for \"Custom shell command-line options\".\n",
    "\n",
    "```{figure} img/custom-terminal.png\n",
    "---\n",
    "width: 500px\n",
    "name: custom-terminal\n",
    "align: left\n",
    "---\n",
    "```\n",
    "  \n",
    "6. **Restart R!** Open R and close the terminal tab. Open a new terminal.\n",
    "\n",
    "```{figure} img/new-terminal.png\n",
    "---\n",
    "width: 700px\n",
    "name: new-terminal\n",
    "align: left\n",
    "---\n",
    "```\n",
    "\n",
    "7. Start using Python in RStudio by typing `repl_python()` in the R console, or running a line of Python code from a Python script from the RStudio editor by Cntrl + enter. Or by running scripts from the terminal inside RStudio."
   ]
  },
  {
   "cell_type": "markdown",
   "metadata": {
    "slideshow": {
     "slide_type": "slide"
    }
   },
   "source": [
    "## Debugging tools in R & Python\n",
    "\n",
    "\n",
    "\n",
    "|Task |    |  R  | Python |\n",
    "|-----|----|-----|--------|\n",
    "| <img src=\"img/traceback.png\" width=100> | Look at the death certificate to get some general information about the death | `traceback` | `traceback.print_last` |\n",
    "| <img src=\"img/options.png\" width=100> | Do a post mortem autopsy find further evidence of why it died  | `options(error = recover)` | `pdb.pm` |\n",
    "| <img src=\"img/browser.png\" width=100> | Revive the dead so it may walk again |  `browser` | `breakpoint` |\n",
    "\n",
    "*Source (images and R functions): [Jenny Bryan's rstudio::conf 2020 talk](https://resources.rstudio.com/rstudio-conf-2020/object-of-type-closure-is-not-subsettable-jenny-bryan)*"
   ]
  },
  {
   "cell_type": "markdown",
   "metadata": {
    "slideshow": {
     "slide_type": "slide"
    }
   },
   "source": [
    "### Using `print_last` in Python"
   ]
  },
  {
   "cell_type": "markdown",
   "metadata": {
    "slideshow": {
     "slide_type": "fragment"
    }
   },
   "source": [
    "```\n",
    "import traceback\n",
    "```"
   ]
  },
  {
   "cell_type": "markdown",
   "metadata": {
    "slideshow": {
     "slide_type": "fragment"
    }
   },
   "source": [
    "```\n",
    "x = [2, 4, 6]\n",
    "x[3]\n",
    "```"
   ]
  },
  {
   "cell_type": "markdown",
   "metadata": {},
   "source": [
    "```\n",
    "---------------------------------------------------------------------------\n",
    "IndexError                                Traceback (most recent call last)\n",
    "<ipython-input-2-765df518d8c9> in <module>\n",
    "      1 x = [2, 4, 6]\n",
    "----> 2 x[3]\n",
    "\n",
    "IndexError: list index out of range\n",
    "```"
   ]
  },
  {
   "cell_type": "markdown",
   "metadata": {
    "slideshow": {
     "slide_type": "fragment"
    }
   },
   "source": [
    "```\n",
    "traceback.print_last()\n",
    "```"
   ]
  },
  {
   "cell_type": "markdown",
   "metadata": {},
   "source": [
    "```\n",
    "Traceback (most recent call last):\n",
    "  File \"/opt/anaconda3/lib/python3.7/site-packages/IPython/core/interactiveshell.py\", line 3331, in run_code\n",
    "    exec(code_obj, self.user_global_ns, self.user_ns)\n",
    "  File \"<ipython-input-2-765df518d8c9>\", line 2, in <module>\n",
    "    x[3]\n",
    "IndexError: list index out of range\n",
    "\n",
    "```"
   ]
  },
  {
   "cell_type": "markdown",
   "metadata": {
    "slideshow": {
     "slide_type": "slide"
    }
   },
   "source": [
    "## Using `pdb.postmortem` to do a postmortem"
   ]
  },
  {
   "cell_type": "markdown",
   "metadata": {
    "slideshow": {
     "slide_type": "fragment"
    }
   },
   "source": [
    "```\n",
    "import pdb\n",
    "import sys\n",
    "```"
   ]
  },
  {
   "cell_type": "markdown",
   "metadata": {
    "slideshow": {
     "slide_type": "fragment"
    }
   },
   "source": [
    "```\n",
    "x = [2, 4, 6]\n",
    "x[3]\n",
    "```"
   ]
  },
  {
   "cell_type": "markdown",
   "metadata": {},
   "source": [
    "```\n",
    "---------------------------------------------------------------------------\n",
    "IndexError                                Traceback (most recent call last)\n",
    "<ipython-input-5-765df518d8c9> in <module>\n",
    "      1 x = [2, 4, 6]\n",
    "----> 2 x[3]\n",
    "\n",
    "IndexError: list index out of range\n",
    "```"
   ]
  },
  {
   "cell_type": "markdown",
   "metadata": {
    "slideshow": {
     "slide_type": "fragment"
    }
   },
   "source": [
    "```\n",
    "pdb.pm()\n",
    "```"
   ]
  },
  {
   "cell_type": "markdown",
   "metadata": {},
   "source": [
    "```\n",
    "> <ipython-input-5-765df518d8c9>(2)<module>()\n",
    "-> x[3]\n",
    "(Pdb) x\n",
    "[2, 4, 6]\n",
    "(Pdb) x[3]\n",
    "*** IndexError: list index out of range\n",
    "(Pdb) x[2]\n",
    "6\n",
    "(Pdb) q\n",
    "```"
   ]
  },
  {
   "cell_type": "markdown",
   "metadata": {
    "slideshow": {
     "slide_type": "slide"
    }
   },
   "source": [
    "### Using `breakpoint` in Python:"
   ]
  },
  {
   "cell_type": "markdown",
   "metadata": {
    "slideshow": {
     "slide_type": "fragment"
    }
   },
   "source": [
    "```\n",
    "x = [2, 4, 6]\n",
    "breakpoint()\n",
    "x[3]\n",
    "```"
   ]
  },
  {
   "cell_type": "markdown",
   "metadata": {},
   "source": [
    "```\n",
    "--Return--\n",
    "> <ipython-input-7-ede97edf4895>(2)<module>()->None\n",
    "-> breakpoint()\n",
    "(Pdb) x\n",
    "[2, 4, 6]\n",
    "(Pdb) x[3]\n",
    "*** IndexError: list index out of range\n",
    "(Pdb) x[2]\n",
    "6\n",
    "(Pdb) q\n",
    "---------------------------------------------------------------------------\n",
    "BdbQuit                                   Traceback (most recent call last)\n",
    "<ipython-input-7-ede97edf4895> in <module>\n",
    "      1 x = [2, 4, 6]\n",
    "----> 2 breakpoint()\n",
    "      3 x[3]\n",
    "\n",
    "/opt/anaconda3/lib/python3.7/bdb.py in trace_dispatch(self, frame, event, arg)\n",
    "     90             return self.dispatch_call(frame, arg)\n",
    "     91         if event == 'return':\n",
    "---> 92             return self.dispatch_return(frame, arg)\n",
    "     93         if event == 'exception':\n",
    "     94             return self.dispatch_exception(frame, arg)\n",
    "\n",
    "/opt/anaconda3/lib/python3.7/bdb.py in dispatch_return(self, frame, arg)\n",
    "    152             finally:\n",
    "    153                 self.frame_returning = None\n",
    "--> 154             if self.quitting: raise BdbQuit\n",
    "    155             # The user issued a 'next' or 'until' command.\n",
    "    156             if self.stopframe is frame and self.stoplineno != -1:\n",
    "\n",
    "BdbQuit: \n",
    "```"
   ]
  },
  {
   "cell_type": "markdown",
   "metadata": {
    "slideshow": {
     "slide_type": "slide"
    }
   },
   "source": [
    "## Create a reprex to get help\n",
    "\n",
    "As you work on projects in MDS, and then your work in the real world, you are going to be doing MANY things you haven't done before, and you are going to hit points when you need to ask others for help. \n",
    "\n",
    "If you watched Jenny's rstudio::conf 2020 video this week, you learned about the importance of creating a reproducible and minimal working example to optimize your chance of getting help. \n",
    "\n",
    "Furthermore, writing a reproducible and minimal working example will not only help you get help more easily, often times the process of doing this will help you find your own bug and fix it!"
   ]
  },
  {
   "cell_type": "markdown",
   "metadata": {
    "slideshow": {
     "slide_type": "slide"
    }
   },
   "source": [
    "### Tools to help you create a reprex\n",
    "\n",
    "- [reprex R package](https://reprex.tidyverse.org/)\n",
    "- [reprexpy Python package](https://reprexpy.readthedocs.io/en/latest/)"
   ]
  },
  {
   "cell_type": "markdown",
   "metadata": {
    "slideshow": {
     "slide_type": "slide"
    }
   },
   "source": [
    "## Summary\n",
    "\n",
    "What were the biggest take homes and/or most important new things you learned today?\n",
    "\n",
    "Enter your answers on the [sli.do](https://www.sli.do) poll (`#524-L04`) and I will summarize and post the results here after class."
   ]
  }
 ],
 "metadata": {
  "kernelspec": {
   "display_name": "R",
   "language": "R",
   "name": "ir"
  },
  "language_info": {
   "codemirror_mode": "r",
   "file_extension": ".r",
   "mimetype": "text/x-r-source",
   "name": "R",
   "pygments_lexer": "r",
   "version": "4.0.3"
  }
 },
 "nbformat": 4,
 "nbformat_minor": 4
}