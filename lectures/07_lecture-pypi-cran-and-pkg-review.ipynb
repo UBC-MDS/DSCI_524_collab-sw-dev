{
 "cells": [
  {
   "cell_type": "markdown",
   "metadata": {
    "slideshow": {
     "slide_type": "slide"
    }
   },
   "source": [
    "## DSCI 524 - Collaborative Software Development\n",
    "\n",
    "### Lecture 7: Peer review of packages, and the package repositories/indices CRAN and PyPI\n",
    "\n",
    "#### 2020-03-16"
   ]
  },
  {
   "cell_type": "markdown",
   "metadata": {
    "slideshow": {
     "slide_type": "slide"
    }
   },
   "source": [
    "## Lecture 7 learning objectives:\n",
    "By the end of this lecture, students should be able to:\n",
    "- Explain the advantage of using of packages that have undergone peer review\n",
    "- List the rOpenSci and PyOpenSci organizations aims and goals\n",
    "- Describe the peer review process used by the rOpenSci and PyOpenSci organizations\n",
    "- Describe the requirements for publishing packages on CRAN and PyPI\n",
    "- Explain the philosophical difference between how CRAN and PyPI gatekeep pacakges, and how this impacts the packages that are found on each repository/index"
   ]
  },
  {
   "cell_type": "markdown",
   "metadata": {
    "slideshow": {
     "slide_type": "slide"
    }
   },
   "source": [
    "## [rOpenSci](https://ropensci.org/) aims and goals:\n",
    "\n",
    "rOpenSci fosters a culture that values open and reproducible research using shared data and reusable software."
   ]
  },
  {
   "cell_type": "markdown",
   "metadata": {
    "slideshow": {
     "slide_type": "fragment"
    }
   },
   "source": [
    "We do this by:\n",
    "- Creating technical infrastructure in the form of carefully vetted, staff- and community-contributed R software tools that lower barriers to working with scientific data sources on the web"
   ]
  },
  {
   "cell_type": "markdown",
   "metadata": {
    "slideshow": {
     "slide_type": "fragment"
    }
   },
   "source": [
    "- Creating social infrastructure through a welcoming and diverse community"
   ]
  },
  {
   "cell_type": "markdown",
   "metadata": {
    "slideshow": {
     "slide_type": "fragment"
    }
   },
   "source": [
    "- Making the right data, tools and best practices more discoverable"
   ]
  },
  {
   "cell_type": "markdown",
   "metadata": {
    "slideshow": {
     "slide_type": "fragment"
    }
   },
   "source": [
    "- Building capacity of software users and developers and fostering a sense of pride in their work"
   ]
  },
  {
   "cell_type": "markdown",
   "metadata": {
    "slideshow": {
     "slide_type": "fragment"
    }
   },
   "source": [
    "- Promoting advocacy for a culture of data sharing and reusable software.\n",
    "\n",
    "*Source: <https://ropensci.org/about/>*"
   ]
  },
  {
   "cell_type": "markdown",
   "metadata": {
    "slideshow": {
     "slide_type": "slide"
    }
   },
   "source": [
    "## rOpenSci's open peer review process"
   ]
  },
  {
   "cell_type": "markdown",
   "metadata": {
    "slideshow": {
     "slide_type": "fragment"
    }
   },
   "source": [
    "- Authors submit complete R packages to rOpenSci."
   ]
  },
  {
   "cell_type": "markdown",
   "metadata": {
    "slideshow": {
     "slide_type": "fragment"
    }
   },
   "source": [
    "- Editors check that packages fit into rOpenSci's scope, run a series of automated tests to ensure a baseline of code quality and completeness, and then assign two independent reviewers."
   ]
  },
  {
   "cell_type": "markdown",
   "metadata": {
    "slideshow": {
     "slide_type": "fragment"
    }
   },
   "source": [
    "- Reviewers comment on usability, quality, and style of software code as well as documentation. "
   ]
  },
  {
   "cell_type": "markdown",
   "metadata": {
    "slideshow": {
     "slide_type": "fragment"
    }
   },
   "source": [
    "- Authors make changes in response."
   ]
  },
  {
   "cell_type": "markdown",
   "metadata": {
    "slideshow": {
     "slide_type": "fragment"
    }
   },
   "source": [
    "- Once reviewers are satisfied with the updates, the package receives a badge of approval and joins rOpenSci's suite of approved pacakges."
   ]
  },
  {
   "cell_type": "markdown",
   "metadata": {
    "slideshow": {
     "slide_type": "slide"
    }
   },
   "source": [
    "## rOpenSci's open peer review process (cont'd)\n",
    "\n",
    "- Happens openly, and publicly on GitHub in issues."
   ]
  },
  {
   "cell_type": "markdown",
   "metadata": {
    "slideshow": {
     "slide_type": "fragment"
    }
   },
   "source": [
    "- Process is quite iterative and fast. After reviewers post a first round of extensive reviews, authors and reviewers chat in an informal back-and-forth, only lightly moderated by an editor. \n",
    "\n",
    "*Source: <https://numfocus.org/blog/how-ropensci-uses-code-review-to-promote-reproducible-science>*"
   ]
  },
  {
   "cell_type": "markdown",
   "metadata": {
    "slideshow": {
     "slide_type": "slide"
    }
   },
   "source": [
    "##  rOpenSci's Guidance and Standards\n",
    "\n",
    "What aspects of a package are reviewed? "
   ]
  },
  {
   "cell_type": "markdown",
   "metadata": {
    "slideshow": {
     "slide_type": "fragment"
    }
   },
   "source": [
    "- high-level best practices:\n",
    "    - is the code reusable (e.g. follow the DRY principle)?\n",
    "    - are sufficient edge cases tested?\n",
    "    - etc"
   ]
  },
  {
   "cell_type": "markdown",
   "metadata": {
    "slideshow": {
     "slide_type": "fragment"
    }
   },
   "source": [
    "- low-level standards:\n",
    "    - are naming conventions for functions followed?\n",
    "    - did they make the best choices of dependencies for the package's intended tasks?\n",
    "    - etc\n",
    "    \n",
    "*Source: <https://numfocus.org/blog/how-ropensci-uses-code-review-to-promote-reproducible-science>*"
   ]
  },
  {
   "cell_type": "markdown",
   "metadata": {
    "slideshow": {
     "slide_type": "slide"
    }
   },
   "source": [
    "## rOpenSci-reviewed packages:\n",
    "\n",
    "- <https://ropensci.org/packages/>"
   ]
  },
  {
   "cell_type": "markdown",
   "metadata": {
    "slideshow": {
     "slide_type": "slide"
    }
   },
   "source": [
    "## Let's look at an rOpenSci review!\n",
    "\n",
    "All packages currently under review: <https://github.com/ropensci/software-review/issues>\n",
    "\n",
    "- [Review of tidypmc](https://github.com/ropensci/software-review/issues/290)"
   ]
  },
  {
   "cell_type": "markdown",
   "metadata": {
    "slideshow": {
     "slide_type": "slide"
    }
   },
   "source": [
    "## [pyOpenSci](https://www.pyopensci.org/)\n",
    "\n",
    "- A new organization, modelled after rOpenSci\n",
    "- scope is Python packages\n",
    "- First package submitted to pyOpenSci was in May 2019"
   ]
  },
  {
   "cell_type": "markdown",
   "metadata": {
    "slideshow": {
     "slide_type": "slide"
    }
   },
   "source": [
    "## What do you get for having your package reviewed by rOpenSci?\n",
    "\n",
    "- valuable feedback from the knowledgeable editors and reviewers\n",
    "- help with package maintenance and submission of your package to CRAN\n",
    "- promotion of your package on their website, blog and social media\n",
    "- packages that have a short accompanying paper can be automatically submitted to [JOSS](https://joss.theoj.org/) and fast-tracked for publication."
   ]
  },
  {
   "cell_type": "markdown",
   "metadata": {
    "slideshow": {
     "slide_type": "slide"
    }
   },
   "source": [
    "## Your peer review:\n",
    "\n",
    "- MDS Open peer review: <https://github.com/UBC-MDS/software-review>"
   ]
  },
  {
   "cell_type": "markdown",
   "metadata": {
    "slideshow": {
     "slide_type": "slide"
    }
   },
   "source": [
    "## If you really enjoyed this course and the peer review...\n",
    "\n",
    "You may want to consider getting involved with one of these organizations! Ways to get involved:\n",
    "\n",
    "- Join the community forum [rOpensci](https://discuss.ropensci.org/) [pyOpensci](https://pyopensci.discourse.group/)\n",
    "- Virtually attend community calls! [rOpensci](https://ropensci.org/commcalls/) [pyOpensci](https://www.pyopensci.org/#community-meetings)\n",
    "- Volunteer to review packages! [rOpensci](https://ropensci.org/onboarding/) [pyOpenSci](https://forms.gle/wvwLaLQre58YLHpD6) \n",
    "- Submit your package for review! [rOpensci](https://github.com/ropensci/software-review/#why-and-how-submit-your-package-to-ropensci) [pyOpensci](https://www.pyopensci.org/dev_guide/peer_review/aims_scope.html)"
   ]
  },
  {
   "cell_type": "markdown",
   "metadata": {
    "slideshow": {
     "slide_type": "slide"
    }
   },
   "source": [
    "## CRAN\n",
    "\n",
    "- CRAN (founded in 1997) stands for the \"Comprehensive R Archive Network\"\n",
    "\n",
    "- it is a collection of sites which host identical copies of:\n",
    "    - R distribution(s)\n",
    "    - the contributed extensions (*i.e.,* packages)\n",
    "    - documentation for R\n",
    "    - binaries\n",
    "- as of 2012, there were 85 official ‘daily’ mirrors\n",
    "\n",
    " *Source: Hornik, K (2012). The Comprehensive R Archive Network. Wiley interdisciplinary reviews. Computational statistics. 4(4): 394-398. [doi:10.1002/wics.1212](https://onlinelibrary-wiley-com.ezproxy.library.ubc.ca/doi/full/10.1002/wics.1212)*"
   ]
  },
  {
   "cell_type": "markdown",
   "metadata": {
    "slideshow": {
     "slide_type": "slide"
    }
   },
   "source": [
    "### What does it mean to be a CRAN package:\n",
    "\n",
    "**A stamp of authenticity:**\n",
    "- passed quality control of the `check` utility\n",
    "\n"
   ]
  },
  {
   "cell_type": "markdown",
   "metadata": {
    "slideshow": {
     "slide_type": "fragment"
    }
   },
   "source": [
    "**Ease of installation:**\n",
    "- can be installed by users via `install.packages`\n",
    "- binaries available for Windows & Mac OS's\n",
    "\n"
   ]
  },
  {
   "cell_type": "markdown",
   "metadata": {
    "slideshow": {
     "slide_type": "fragment"
    }
   },
   "source": [
    "**Discoverability:**\n",
    "- listed as a package on CRAN "
   ]
  },
  {
   "cell_type": "markdown",
   "metadata": {
    "slideshow": {
     "slide_type": "fragment"
    }
   },
   "source": [
    "**HOWEVER** - CRAN makes no assertions about the package's usability, or the efficiency and correctness of the computations it performs"
   ]
  },
  {
   "cell_type": "markdown",
   "metadata": {
    "slideshow": {
     "slide_type": "slide"
    }
   },
   "source": [
    "### How to submit a package to CRAN\n",
    "\n",
    "1. Pick a version number.\n",
    "2. Run and document `R CMD check`.\n",
    "3. Check that you’re aligned with CRAN policies.\n",
    "4. Update README.md and NEWS.md.\n",
    "5. Submit the package to CRAN.\n",
    "6. Prepare for the next version by updating version numbers.\n",
    "7. Publicise the new version.\n",
    "\n",
    "*Source: [Chapter 18 Releasing a package](https://r-pkgs.org/release.html) - R packages book by Hadley Wickham & Jenny Bryan*"
   ]
  },
  {
   "cell_type": "markdown",
   "metadata": {
    "slideshow": {
     "slide_type": "slide"
    }
   },
   "source": [
    "### Notes on submitting to CRAN\n",
    "\n",
    "- CRAN is staffed by volunteers, all of whom have other full-time jobs\n",
    "- A typical week has over 100 submissions and only three volunteers to process them all. \n",
    "- The less work you make for them the more likely you are to have a pleasant submission experience... "
   ]
  },
  {
   "cell_type": "markdown",
   "metadata": {
    "slideshow": {
     "slide_type": "slide"
    }
   },
   "source": [
    "### Notes on submitting to CRAN (cont'd)\n",
    "\n",
    "Technical things:\n",
    "\n",
    "- Your package must pass `R CMD check` with the current development version of R (R-devel)\n",
    "- it must work on at least two platforms (CRAN uses the following 4 platforms: Windows, Mac OS X, Linux and Solaris) - use GitHub Actions to ensure this before submitting to CRAN!\n",
    "\n",
    "*If you decide to submit a package to CRAN follow the detailed instructions in [Chapter 18 Releasing a package](https://r-pkgs.org/release.html) fromt the R packages book by Hadley Wickham & Jenny Bryan to do so. If you submit your package to rOpenSci, they will help you get everything in order for submission to CRAN as well!*"
   ]
  },
  {
   "cell_type": "markdown",
   "metadata": {
    "slideshow": {
     "slide_type": "slide"
    }
   },
   "source": [
    "### Notes on submitting to CRAN (cont'd)\n",
    "\n",
    "CRAN policies: <https://cran.r-project.org/web/packages/policies.html>\n",
    "\n",
    "Most common problems (from the R packages book):\n",
    "\n",
    "- The maintainer’s e-mail address must be stable, if they can’t get in touch with you they will remove your package from CRAN. \n",
    "\n",
    "- You must have clearly identified the copyright holders in DESCRIPTION: if you have included external source code, you must ensure that the license is compatible.\n",
    "\n",
    "- Do not make external changes without explicit user permission. Don’t write to the file system, change options, install packages, quit R, send information over the internet, open external software, etc.\n",
    "\n",
    "- Do not submit updates too frequently. The policy suggests a new version once every 1-2 months at most."
   ]
  },
  {
   "cell_type": "markdown",
   "metadata": {
    "slideshow": {
     "slide_type": "slide"
    }
   },
   "source": [
    "### If your submission fails:\n",
    "\n",
    "Read section 18.6.1 \"On failure\" from  [Chapter 18 Releasing a package](https://r-pkgs.org/release.html) - R packages book by Hadley Wickham & Jenny Bryan*\n",
    "\n",
    "TL;DR - Breathe, don't argue, fix what is needed and re-submit."
   ]
  },
  {
   "cell_type": "markdown",
   "metadata": {},
   "source": [
    "## PyPI\n",
    "\n"
   ]
  },
  {
   "cell_type": "markdown",
   "metadata": {},
   "source": []
  },
  {
   "cell_type": "markdown",
   "metadata": {},
   "source": [
    "- https://r-pkgs.org/release.html\n",
    "- https://devguide.ropensci.org/building.html#cranchecks\n",
    "- https://github.com/MangoTheCat/goodpractice"
   ]
  },
  {
   "cell_type": "markdown",
   "metadata": {},
   "source": []
  },
  {
   "cell_type": "markdown",
   "metadata": {},
   "source": []
  }
 ],
 "metadata": {
  "celltoolbar": "Slideshow",
  "kernelspec": {
   "display_name": "Python 3",
   "language": "python",
   "name": "python3"
  },
  "language_info": {
   "codemirror_mode": {
    "name": "ipython",
    "version": 3
   },
   "file_extension": ".py",
   "mimetype": "text/x-python",
   "name": "python",
   "nbconvert_exporter": "python",
   "pygments_lexer": "ipython3",
   "version": "3.7.6"
  }
 },
 "nbformat": 4,
 "nbformat_minor": 4
}
