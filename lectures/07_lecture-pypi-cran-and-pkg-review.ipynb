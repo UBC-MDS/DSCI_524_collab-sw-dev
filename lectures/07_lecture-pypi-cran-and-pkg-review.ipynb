{
 "cells": [
  {
   "cell_type": "markdown",
   "metadata": {
    "slideshow": {
     "slide_type": "slide"
    }
   },
   "source": [
    "## DSCI 524 - Collaborative Software Development\n",
    "\n",
    "### Lecture 7: Peer review of packages, and the package repositories/indices CRAN and PyPI\n",
    "\n",
    "#### 2020-03-16"
   ]
  },
  {
   "cell_type": "markdown",
   "metadata": {
    "slideshow": {
     "slide_type": "slide"
    }
   },
   "source": [
    "## Lecture 7 learning objectives:\n",
    "By the end of this lecture, students should be able to:\n",
    "- Explain the advantage of using of packages that have undergone peer review\n",
    "- List the rOpenSci and PyOpenSci organizations aims and goals\n",
    "- Describe the peer review process used by the rOpenSci and PyOpenSci organizations\n",
    "- Explain the role the Journal of Open Source Software (JOSS) plays in recognizing developers contributions to open source software development\n",
    "- Describe the requirements for publishing packages on CRAN and PyPI\n",
    "- Explain the philosophical difference between how CRAN and PyPI gatekeep pacakges, and how this impacts the packages that are found on each repository/index"
   ]
  },
  {
   "cell_type": "markdown",
   "metadata": {
    "slideshow": {
     "slide_type": "slide"
    }
   },
   "source": [
    "## rOpenSci aims and goals:\n",
    "\n",
    "rOpenSci fosters a culture that values open and reproducible research using shared data and reusable software."
   ]
  },
  {
   "cell_type": "markdown",
   "metadata": {
    "slideshow": {
     "slide_type": "fragment"
    }
   },
   "source": [
    "We do this by:\n",
    "- Creating technical infrastructure in the form of carefully vetted, staff- and community-contributed R software tools that lower barriers to working with scientific data sources on the web"
   ]
  },
  {
   "cell_type": "markdown",
   "metadata": {
    "slideshow": {
     "slide_type": "fragment"
    }
   },
   "source": [
    "- Creating social infrastructure through a welcoming and diverse community"
   ]
  },
  {
   "cell_type": "markdown",
   "metadata": {
    "slideshow": {
     "slide_type": "fragment"
    }
   },
   "source": [
    "- Making the right data, tools and best practices more discoverable"
   ]
  },
  {
   "cell_type": "markdown",
   "metadata": {
    "slideshow": {
     "slide_type": "fragment"
    }
   },
   "source": [
    "- Building capacity of software users and developers and fostering a sense of pride in their work"
   ]
  },
  {
   "cell_type": "markdown",
   "metadata": {
    "slideshow": {
     "slide_type": "fragment"
    }
   },
   "source": [
    "- Promoting advocacy for a culture of data sharing and reusable software.\n",
    "\n",
    "*Source: <https://ropensci.org/about/>*"
   ]
  },
  {
   "cell_type": "markdown",
   "metadata": {
    "slideshow": {
     "slide_type": "slide"
    }
   },
   "source": [
    "## rOpenSci's open peer review process"
   ]
  },
  {
   "cell_type": "markdown",
   "metadata": {
    "slideshow": {
     "slide_type": "fragment"
    }
   },
   "source": [
    "- Authors submit complete R packages to rOpenSci."
   ]
  },
  {
   "cell_type": "markdown",
   "metadata": {
    "slideshow": {
     "slide_type": "fragment"
    }
   },
   "source": [
    "- Editors check that packages fit into rOpenSci's scope, run a series of automated tests to ensure a baseline of code quality and completeness, and then assign two independent reviewers."
   ]
  },
  {
   "cell_type": "markdown",
   "metadata": {
    "slideshow": {
     "slide_type": "fragment"
    }
   },
   "source": [
    "- Reviewers comment on usability, quality, and style of software code as well as documentation. "
   ]
  },
  {
   "cell_type": "markdown",
   "metadata": {
    "slideshow": {
     "slide_type": "fragment"
    }
   },
   "source": [
    "- Authors make changes in response."
   ]
  },
  {
   "cell_type": "markdown",
   "metadata": {
    "slideshow": {
     "slide_type": "fragment"
    }
   },
   "source": [
    "- Once reviewers are satisfied with the updates, the package receives a badge of approval and joins rOpenSci's suite of approved pacakges."
   ]
  },
  {
   "cell_type": "markdown",
   "metadata": {
    "slideshow": {
     "slide_type": "slide"
    }
   },
   "source": [
    "## rOpenSci's open peer review process (cont'd)\n",
    "\n",
    "- Happens openly, and publicly on GitHub in issues."
   ]
  },
  {
   "cell_type": "markdown",
   "metadata": {
    "slideshow": {
     "slide_type": "fragment"
    }
   },
   "source": [
    "- Process is quite iterative and fast. After reviewers post a first round of extensive reviews, authors and reviewers chat in an informal back-and-forth, only lightly moderated by an editor. \n",
    "\n",
    "*Source: <https://numfocus.org/blog/how-ropensci-uses-code-review-to-promote-reproducible-science>*"
   ]
  },
  {
   "cell_type": "markdown",
   "metadata": {
    "slideshow": {
     "slide_type": "slide"
    }
   },
   "source": [
    "##  rOpenSci's Guidance and Standards\n",
    "\n",
    "What aspects of a package are reviewed? "
   ]
  },
  {
   "cell_type": "markdown",
   "metadata": {
    "slideshow": {
     "slide_type": "fragment"
    }
   },
   "source": [
    "- high-level best practices:\n",
    "    - is the code reusable (e.g. follow the DRY principle)?\n",
    "    - are sufficient edge cases tested?\n",
    "    - etc"
   ]
  },
  {
   "cell_type": "markdown",
   "metadata": {
    "slideshow": {
     "slide_type": "fragment"
    }
   },
   "source": [
    "- low-level standards:\n",
    "    - are naming conventions for functions followed?\n",
    "    - did they make the best choices of dependencies for the package's intended tasks?\n",
    "    - etc\n",
    "    \n",
    "*Source: <https://numfocus.org/blog/how-ropensci-uses-code-review-to-promote-reproducible-science>*"
   ]
  },
  {
   "cell_type": "markdown",
   "metadata": {
    "slideshow": {
     "slide_type": "slide"
    }
   },
   "source": [
    "## rOpenSci-reviewed packages:\n",
    "\n",
    "- <https://ropensci.org/packages/>"
   ]
  },
  {
   "cell_type": "markdown",
   "metadata": {
    "slideshow": {
     "slide_type": "slide"
    }
   },
   "source": [
    "## Let's look at an rOpenSci review!\n",
    "\n",
    "All packages currently under review: <https://github.com/ropensci/software-review/issues>\n",
    "\n",
    "- [Review of tidypmc](https://github.com/ropensci/software-review/issues/290)"
   ]
  },
  {
   "cell_type": "markdown",
   "metadata": {
    "slideshow": {
     "slide_type": "slide"
    }
   },
   "source": [
    "## Your peer review:\n",
    "\n",
    "- MDS Open peer review: <https://github.com/UBC-MDS/software-review>"
   ]
  },
  {
   "cell_type": "markdown",
   "metadata": {},
   "source": [
    "- https://r-pkgs.org/release.html\n",
    "- https://devguide.ropensci.org/building.html#cranchecks\n",
    "- https://github.com/MangoTheCat/goodpractice"
   ]
  },
  {
   "cell_type": "markdown",
   "metadata": {},
   "source": []
  },
  {
   "cell_type": "markdown",
   "metadata": {},
   "source": []
  }
 ],
 "metadata": {
  "celltoolbar": "Slideshow",
  "kernelspec": {
   "display_name": "Python 3",
   "language": "python",
   "name": "python3"
  },
  "language_info": {
   "codemirror_mode": {
    "name": "ipython",
    "version": 3
   },
   "file_extension": ".py",
   "mimetype": "text/x-python",
   "name": "python",
   "nbconvert_exporter": "python",
   "pygments_lexer": "ipython3",
   "version": "3.7.6"
  }
 },
 "nbformat": 4,
 "nbformat_minor": 4
}
