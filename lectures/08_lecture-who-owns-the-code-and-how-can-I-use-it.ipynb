{
 "cells": [
  {
   "cell_type": "markdown",
   "metadata": {
    "slideshow": {
     "slide_type": "slide"
    }
   },
   "source": [
    "## DSCI 524 - Collaborative Software Development\n",
    "\n",
    "### Lecture 8: Who owns the code? And how can I use it?\n",
    "\n",
    "#### 2020-03-19"
   ]
  },
  {
   "cell_type": "markdown",
   "metadata": {
    "slideshow": {
     "slide_type": "slide"
    }
   },
   "source": [
    "## Lecture 8 learning objectives:\n",
    "By the end of this lecture, students should be able to: \n",
    "- Choose an appropriate license for software (i.e., packages or analysis code)\n",
    "- Choose an appropriate license for your non-software materials"
   ]
  },
  {
   "cell_type": "markdown",
   "metadata": {
    "slideshow": {
     "slide_type": "slide"
    }
   },
   "source": [
    "## FULL DISCLOSURE - I AM NOT A LAWYER!"
   ]
  },
  {
   "cell_type": "markdown",
   "metadata": {
    "slideshow": {
     "slide_type": "slide"
    }
   },
   "source": [
    "## Software falls under copyright law\n",
    "\n",
    "- In both the US and Canada, software code falls under copyright law"
   ]
  },
  {
   "cell_type": "markdown",
   "metadata": {
    "slideshow": {
     "slide_type": "fragment"
    }
   },
   "source": [
    "- knowing who owns the copyright of software code is critical because the owner controls if and how the code may be:\n",
    "    - copied\n",
    "    - distributed \n",
    "    - sold\n",
    "    - modified\n",
    "    - essentially, made profitable"
   ]
  },
  {
   "cell_type": "markdown",
   "metadata": {
    "slideshow": {
     "slide_type": "fragment"
    }
   },
   "source": [
    "> Copyright protects only the language and words used to express ideas, concepts and themes, not the ideas, concepts or themes themselves."
   ]
  },
  {
   "cell_type": "markdown",
   "metadata": {
    "slideshow": {
     "slide_type": "slide"
    }
   },
   "source": [
    "## Canadian copyright law rights for software code\n",
    "\n",
    "In Canada, the copyright owner is afforded the following rights:\n",
    "\n",
    "- Economic rights:\n",
    "    - the right to produce, reproduce, publish, translate, authorize & convert a work\n",
    "- Moral rights:\n",
    "    -  the right to claim authorship, the right to remain anonymous, or the right to use a pseudonym or pen name\n",
    "    - the right to integrity\n",
    "    - the right of association\n",
    "    \n",
    "> Economic rights can be transferred to entities that are not the author, whereas moral rights cannot, they can however, be waived."
   ]
  },
  {
   "cell_type": "markdown",
   "metadata": {
    "slideshow": {
     "slide_type": "slide"
    }
   },
   "source": [
    "## US copyright law rights for software code\n",
    "\n",
    "In the US, the copyright owner is afforded four rights:\n",
    "\n",
    "1. The right to reproduce the code\n",
    "2. The right to create \"derivative works\" based on the code, such as the screen display that the code generates, future versions of the software, or other software programs into which the code is integrated\n",
    "3. The right to distribute copies of the code\n",
    "4. The right to \"display\" the code"
   ]
  },
  {
   "cell_type": "markdown",
   "metadata": {
    "slideshow": {
     "slide_type": "slide"
    }
   },
   "source": [
    "## Who has copyright ownership?\n",
    "\n",
    "This is a complicated question, and the answer starts with it depends... \n",
    "\n",
    "So let's start with the simplest case, you author the code and you are doing this for yourself (*i.e.*, not for your employer, not for a client, etc)."
   ]
  },
  {
   "cell_type": "markdown",
   "metadata": {
    "slideshow": {
     "slide_type": "fragment"
    }
   },
   "source": [
    "- In such a case, you (**the person who typed the code**) automatically become the copyright owner. "
   ]
  },
  {
   "cell_type": "markdown",
   "metadata": {
    "slideshow": {
     "slide_type": "fragment"
    }
   },
   "source": [
    "- In both Canada and the USA, you do not need to need to affix the copyright symbol © to your work (some other countries do require this however)."
   ]
  },
  {
   "cell_type": "markdown",
   "metadata": {
    "slideshow": {
     "slide_type": "fragment"
    }
   },
   "source": [
    "> Although the copyright symbol © is not required, it is often used in copyrighted works (along with the name of the copyright owner and the year of first publication) to clearly identify that the code is protected by copyright."
   ]
  },
  {
   "cell_type": "markdown",
   "metadata": {
    "slideshow": {
     "slide_type": "fragment"
    }
   },
   "source": [
    "> In both Canada and the US, it is possible (and advisable) to register your copyright as evidence that a copyright exists and who the owner is. "
   ]
  },
  {
   "cell_type": "markdown",
   "metadata": {
    "slideshow": {
     "slide_type": "notes"
    }
   },
   "source": [
    "> - [Canadian Registration of copyright—filing online](https://www.ic.gc.ca/eic/site/cipointernet-internetopic.nsf/eng/wr03915.html)\n",
    "> - [USA Copyright Registration Portal](https://www.copyright.gov/registration/)"
   ]
  },
  {
   "cell_type": "markdown",
   "metadata": {
    "slideshow": {
     "slide_type": "slide"
    }
   },
   "source": [
    "### Who owns the code in the case of \"Work for hire\"?\n",
    "\n",
    "In both Canada and the US, if you write code for work as an employee the copyright ownership is typically assigned to the employer. \n",
    "\n",
    "The specifics differ a little for "
   ]
  },
  {
   "cell_type": "markdown",
   "metadata": {
    "slideshow": {
     "slide_type": "slide"
    }
   },
   "source": [
    "## Why do I need a license?"
   ]
  },
  {
   "cell_type": "markdown",
   "metadata": {
    "slideshow": {
     "slide_type": "fragment"
    }
   },
   "source": [
    "- Creative works are automatically eligible for intellectual property (and thus copyright) protection"
   ]
  },
  {
   "cell_type": "markdown",
   "metadata": {
    "slideshow": {
     "slide_type": "fragment"
    }
   },
   "source": [
    "- Reusing creative works without a license is dangerous, because the copyright holders could sue you for copyright infringement"
   ]
  },
  {
   "cell_type": "markdown",
   "metadata": {
    "slideshow": {
     "slide_type": "fragment"
    }
   },
   "source": [
    "- Thus, if you publicly share your creative work, you should let others know if and how they can reuse it"
   ]
  },
  {
   "cell_type": "markdown",
   "metadata": {
    "slideshow": {
     "slide_type": "fragment"
    }
   },
   "source": [
    "- This is done via the inclusion of a `LICENSE` or `LICENSE.txt` file in the base directory of the repository that clearly states under which license the content is being made available"
   ]
  },
  {
   "cell_type": "markdown",
   "metadata": {
    "slideshow": {
     "slide_type": "slide"
    }
   },
   "source": [
    "## Why do I need a license? (cont'd)\n",
    "\n",
    "- Unless you include a license that specifies otherwise, nobody else can copy, distribute, or modify your work without being at risk of take-downs, shake-downs, or litigation. "
   ]
  },
  {
   "cell_type": "markdown",
   "metadata": {
    "slideshow": {
     "slide_type": "fragment"
    }
   },
   "source": [
    "- Once the work has other contributors (each a copyright holder), **“nobody” starts including you**!"
   ]
  },
  {
   "cell_type": "markdown",
   "metadata": {
    "slideshow": {
     "slide_type": "fragment"
    }
   },
   "source": [
    "## How do licenses work?\n",
    "\n",
    "A license solves this problem by granting rights to others (the licensees) that they would otherwise not have. What rights are being granted under which conditions differs, often only slightly, from one license to another.\n",
    "\n"
   ]
  },
  {
   "cell_type": "markdown",
   "metadata": {
    "slideshow": {
     "slide_type": "fragment"
    }
   },
   "source": [
    "> *Note: licenses are legal documents and written by legal experts. Most of you do not have the legal expertise to write your own license, so DO NOT do this. Instead, choose an already written one that best suits your situation.*"
   ]
  },
  {
   "cell_type": "markdown",
   "metadata": {
    "slideshow": {
     "slide_type": "slide"
    }
   },
   "source": [
    "## How to choose a license\n",
    "\n",
    "In practice, a few licenses are by far the most popular, and [choosealicense.com](https://choosealicense.com/) will help you find a common license that suits your needs. Important considerations include:"
   ]
  },
  {
   "cell_type": "markdown",
   "metadata": {
    "slideshow": {
     "slide_type": "fragment"
    }
   },
   "source": [
    "- Whether you want to address patent rights."
   ]
  },
  {
   "cell_type": "markdown",
   "metadata": {
    "slideshow": {
     "slide_type": "fragment"
    }
   },
   "source": [
    "- Whether the content you are licensing is source code."
   ]
  },
  {
   "cell_type": "markdown",
   "metadata": {
    "slideshow": {
     "slide_type": "fragment"
    }
   },
   "source": [
    "- Whether you require people distributing derivative works to also require others to distribute their derivative works in the same way."
   ]
  },
  {
   "cell_type": "markdown",
   "metadata": {
    "slideshow": {
     "slide_type": "fragment"
    }
   },
   "source": [
    "- Whether you want to license the code at all."
   ]
  },
  {
   "cell_type": "markdown",
   "metadata": {
    "slideshow": {
     "slide_type": "slide"
    }
   },
   "source": [
    "## How to choose a license (cont'd)\n",
    "\n",
    "- Choose a license that is in common use"
   ]
  },
  {
   "cell_type": "markdown",
   "metadata": {
    "slideshow": {
     "slide_type": "fragment"
    }
   },
   "source": [
    "- this makes life easier for contributors and users, because they are more likely to already be familiar with the license and don’t have to wade through a bunch of jargon to decide if they’re ok with it"
   ]
  },
  {
   "cell_type": "markdown",
   "metadata": {
    "slideshow": {
     "slide_type": "slide"
    }
   },
   "source": [
    "## Let's explore some licenses:\n",
    "\n",
    "- [Git](https://github.com/git/git), the source-code management tool\n",
    "- [CPython](https://github.com/python/cpython), the standard implementation of the Python language\n",
    "- [Jupyter](https://github.com/jupyter), the project behind the web-based Python notebooks we'll be using\n",
    "- [EtherPad](https://github.com/ether/etherpad-lite), a real-time collaborative editor"
   ]
  },
  {
   "cell_type": "markdown",
   "metadata": {},
   "source": [
    "## Attribution:\n",
    "\n",
    "- materials on licenses have been borrowed and derived from the [Software Carpentry](https://software-carpentry.org/) [Version Control with Git - Licensing lesson](http://swcarpentry.github.io/git-novice/11-licensing/index.html) (licensed with the [Creative Commons Attribution 4.0 International](https://creativecommons.org/licenses/by/4.0/)) and <https://choosealicense.com/> (licensed with the [Creative Commons Attribution 3.0 Unported License](https://creativecommons.org/licenses/by/3.0/))."
   ]
  }
 ],
 "metadata": {
  "celltoolbar": "Slideshow",
  "kernelspec": {
   "display_name": "Python 3",
   "language": "python",
   "name": "python3"
  },
  "language_info": {
   "codemirror_mode": {
    "name": "ipython",
    "version": 3
   },
   "file_extension": ".py",
   "mimetype": "text/x-python",
   "name": "python",
   "nbconvert_exporter": "python",
   "pygments_lexer": "ipython3",
   "version": "3.7.6"
  }
 },
 "nbformat": 4,
 "nbformat_minor": 4
}
