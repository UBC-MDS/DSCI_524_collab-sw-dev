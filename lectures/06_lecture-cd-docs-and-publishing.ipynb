{
 "cells": [
  {
   "cell_type": "markdown",
   "metadata": {},
   "source": [
    "## DSCI 524 - Collaborative Software Development\n",
    "\n",
    "### Lecture 6: Introductions to Continuous Development (CD), package documentation & publishing\n",
    "\n",
    "#### 2020-03-11"
   ]
  },
  {
   "cell_type": "markdown",
   "metadata": {},
   "source": [
    "## Lecture 6 learning objectives:\n",
    "By the end of this lecture, students should be able to:\n",
    "- Explain semantic versioning, and define what constitutes patch, minor, major and breaking changes\n",
    "- Use GitHub Actions to set-up automated deployment of Python packages upon push to the master branch\n",
    "- Generate well formatted function and package-level documentation for R using Roxygen and `pkgdown`\n",
    "- Generate well formatted function and package-level documentation for Python packages using Sphinx & Read the Docs\n",
    "- Publish Python packages to test PyPI or PyPI\n",
    "- Publish R packages to GitHub, document how to install them via `devtools::install_github`\n",
    "- Compare and contrast PyPI and CRAN"
   ]
  },
  {
   "cell_type": "markdown",
   "metadata": {},
   "source": [
    "## Semantic versioning\n",
    "\n",
    "When we make changes and publish new versions of our packages, we should tag these with a release number so that we and others can view and use older versions of the package if needed."
   ]
  },
  {
   "cell_type": "markdown",
   "metadata": {},
   "source": [
    "Given a version number `MAJOR.MINOR.PATCH` (e.g., `2.3.1`), increment the:"
   ]
  },
  {
   "cell_type": "markdown",
   "metadata": {},
   "source": [
    "- MAJOR version when you make incompatible API changes (often called breaking changes 💥)"
   ]
  },
  {
   "cell_type": "markdown",
   "metadata": {},
   "source": [
    "- MINOR version when you add functionality in a backwards compatible manner ✨↩️"
   ]
  },
  {
   "cell_type": "markdown",
   "metadata": {},
   "source": [
    "- PATCH version when you make backwards compatible bug fixes 🐞"
   ]
  },
  {
   "cell_type": "markdown",
   "metadata": {},
   "source": [
    "*Source: https://semver.org/*"
   ]
  },
  {
   "cell_type": "markdown",
   "metadata": {},
   "source": [
    "### Semantic versioning case study\n",
    "\n",
    "In 2008, Python jumped versions from 2.7.17 to 3.0.0. Some changes in the 3.0.0 release included:\n",
    "- `print` became a function\n",
    "- integer division resulted in creation of a float, instead of an integer\n",
    "- Some well-known APIs no longer returned lists (e.g., `dict.keys`, `dict.values`, `map`)\n",
    "- and many more (see [here](https://docs.python.org/3.0/whatsnew/3.0.html) if interested)\n",
    "\n",
    "*Source: https://docs.python.org/3.0/whatsnew/3.0.html*"
   ]
  },
  {
   "cell_type": "markdown",
   "metadata": {},
   "source": [
    "In 2009, Python jumped versions from 3.0.1 to 3.1.0. Some changes in the 3.1.0 release included:\n",
    "- An ordered dictionary type\n",
    "- Various optimizations to the int type\n",
    "- New unittest features including test skipping and new assert methods.\n",
    "- A much faster io module\n",
    "- Tile support for Tkinter\n",
    "- A pure Python reference implementation of the import statement\n",
    "- New syntax for nested with statements\n",
    "\n",
    "*Source: https://www.python.org/download/releases/3.1/*"
   ]
  },
  {
   "cell_type": "markdown",
   "metadata": {},
   "source": []
  },
  {
   "cell_type": "markdown",
   "metadata": {},
   "source": [
    "## Continous Deployment (CD)"
   ]
  },
  {
   "cell_type": "markdown",
   "metadata": {},
   "source": []
  },
  {
   "cell_type": "markdown",
   "metadata": {},
   "source": [
    "## Using GitHub Actions to perform CD for your Python package"
   ]
  },
  {
   "cell_type": "markdown",
   "metadata": {},
   "source": []
  },
  {
   "cell_type": "markdown",
   "metadata": {},
   "source": []
  },
  {
   "cell_type": "markdown",
   "metadata": {},
   "source": [
    "## Package-level documentation for Python"
   ]
  },
  {
   "cell_type": "markdown",
   "metadata": {},
   "source": []
  },
  {
   "cell_type": "markdown",
   "metadata": {},
   "source": []
  },
  {
   "cell_type": "markdown",
   "metadata": {},
   "source": [
    "## Package-level documentation for R"
   ]
  },
  {
   "cell_type": "markdown",
   "metadata": {},
   "source": []
  },
  {
   "cell_type": "markdown",
   "metadata": {},
   "source": []
  },
  {
   "cell_type": "markdown",
   "metadata": {},
   "source": [
    "## Publishing your Python package and PyPI"
   ]
  },
  {
   "cell_type": "markdown",
   "metadata": {},
   "source": []
  },
  {
   "cell_type": "markdown",
   "metadata": {},
   "source": []
  },
  {
   "cell_type": "markdown",
   "metadata": {},
   "source": [
    "## Publishing your R package and CRAN"
   ]
  },
  {
   "cell_type": "markdown",
   "metadata": {},
   "source": []
  }
 ],
 "metadata": {
  "kernelspec": {
   "display_name": "Python 3",
   "language": "python",
   "name": "python3"
  },
  "language_info": {
   "codemirror_mode": {
    "name": "ipython",
    "version": 3
   },
   "file_extension": ".py",
   "mimetype": "text/x-python",
   "name": "python",
   "nbconvert_exporter": "python",
   "pygments_lexer": "ipython3",
   "version": "3.7.6"
  }
 },
 "nbformat": 4,
 "nbformat_minor": 4
}
