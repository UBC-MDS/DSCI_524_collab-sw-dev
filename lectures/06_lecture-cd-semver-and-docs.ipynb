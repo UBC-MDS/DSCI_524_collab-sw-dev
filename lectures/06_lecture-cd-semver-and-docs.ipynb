{
 "cells": [
  {
   "cell_type": "markdown",
   "metadata": {
    "slideshow": {
     "slide_type": "slide"
    }
   },
   "source": [
    "## DSCI 524 - Collaborative Software Development\n",
    "\n",
    "### Lecture 6: Introductions to Continuous Development (CD), package documentation & publishing\n",
    "\n",
    "#### 2020-03-11"
   ]
  },
  {
   "cell_type": "markdown",
   "metadata": {
    "slideshow": {
     "slide_type": "slide"
    }
   },
   "source": [
    "## Lecture 6 learning objectives:\n",
    "By the end of this lecture, students should be able to:\n",
    "- [Define continuous deployment](#Continous-Deployment-(CD))\n",
    "- [Explain why continuous deployment is superior to manually deploying software](#Why-use-CD?)\n",
    "- [Use GitHub Actions to set-up automated deployment of Python packages upon push to the master branch](#Using-GitHub-Actions-to-perform-CD-for-your-Python-package)\n",
    "- [Explain semantic versioning, and define what constitutes patch, minor, major and breaking changes](#Semantic-versioning)\n",
    "- [Write conventional commit messages that are useful for semantic release](#Conventional-commit-messages)\n",
    "- [Generate well formatted function and package-level documentation for Python packages using Sphinx & Read the Docs](#Package-level-documentation-for-Python)\n",
    "- [Generate well formatted function and package-level documentation for R using Roxygen and `pkgdown`](#Package-level-documentation-for-R)\n",
    "- [Publish Python packages to test PyPI](#Publishing-your-Python-package-for-this-milestone:)\n",
    "- [Publish R packages to GitHub, document how to install them via `devtools::install_github`](#Publishing-your-R-package-for-this-milestone:)"
   ]
  },
  {
   "cell_type": "markdown",
   "metadata": {
    "slideshow": {
     "slide_type": "slide"
    }
   },
   "source": [
    "## Continous Deployment (CD)\n",
    "\n",
    "Defined as the practice of automating the deployment of software that has successfully run through your test-suite.\n",
    "\n",
    "For example, upon merging a pull request to master, an automation process builds the Python package and publishes to PyPI without further human intervention. "
   ]
  },
  {
   "cell_type": "markdown",
   "metadata": {},
   "source": [
    "### Why use CD?\n",
    "\n",
    "- little to no effort in deploying new version of the software allows new features to be rolled out quickly and frequently\n",
    "- also allows for quick implementation and release of bug fixes\n",
    "- deployment can be done by many contributors, not just one or two people with a high level of Software Engineering expertise"
   ]
  },
  {
   "cell_type": "markdown",
   "metadata": {},
   "source": [
    "### Why use CD?\n",
    "\n",
    "Perhaps this story is more convincing:\n",
    "\n",
    "*The company, let’s call them ABC Corp, had 16 instances of the same software, each as a different white label hosted on separate Linux machines in their data center. What I ended up watching (for 3 hours) was how the client remotely connected to each machine individually and did a “capistrano deploy”. For those unfamiliar, Capistrano is essentially a scripting tool which allows for remote execution of various tasks. The deployment process involved running multiple commands on each machine and then doing manual testing to make sure it worked.*\n",
    "\n",
    "*The best part was that this developer and one other were the only two in the whole company who knew how to run the deployment, meaning they were forbidden from going on vacation at the same time. And if one of them was sick, the other had the responsibility all for themselves. This deployment process was done once every two weeks.*\n",
    "\n",
    "[*Source*](https://levelup.gitconnected.com/heres-why-continuous-integration-and-deployment-is-so-important-to-the-software-development-c0caeead5881)"
   ]
  },
  {
   "cell_type": "markdown",
   "metadata": {
    "slideshow": {
     "slide_type": "slide"
    }
   },
   "source": [
    "## Using GitHub Actions to perform CD for your Python package\n",
    "\n",
    "We will be building off what we learned last class about continuous integration with GitHub actions for Python. What we need to change to make a continuous deployment work for our package?"
   ]
  },
  {
   "cell_type": "markdown",
   "metadata": {
    "slideshow": {
     "slide_type": "fragment"
    }
   },
   "source": [
    "- event trigger: we should only deploy after merging pull requests to master"
   ]
  },
  {
   "cell_type": "markdown",
   "metadata": {
    "slideshow": {
     "slide_type": "fragment"
    }
   },
   "source": [
    "- runner & Python version: we should only deploy once for each merged pull request"
   ]
  },
  {
   "cell_type": "markdown",
   "metadata": {
    "slideshow": {
     "slide_type": "fragment"
    }
   },
   "source": [
    "- bump the package version"
   ]
  },
  {
   "cell_type": "markdown",
   "metadata": {
    "slideshow": {
     "slide_type": "fragment"
    }
   },
   "source": [
    "- create a release whose name corresponds to that version"
   ]
  },
  {
   "cell_type": "markdown",
   "metadata": {
    "slideshow": {
     "slide_type": "fragment"
    }
   },
   "source": [
    "- build the package!"
   ]
  },
  {
   "cell_type": "markdown",
   "metadata": {
    "slideshow": {
     "slide_type": "fragment"
    }
   },
   "source": [
    "- publish the package to (test) PyPI"
   ]
  },
  {
   "cell_type": "markdown",
   "metadata": {
    "slideshow": {
     "slide_type": "slide"
    }
   },
   "source": [
    "### Exercise: read [`release.yml`](https://github.com/UBC-MDS/cookiecutter-ubc-mds/blob/master/%7B%7Bcookiecutter.project_slug%7D%7D/.github/workflows/release.yml)\n",
    "\n",
    "To make sure we understand what is happening in our workflow that performs CD, let's convert each **step** to a human-readable explanation:\n",
    "\n",
    "1. checkout our repository files from GitHub and put them on the runner\n",
    "\n",
    "2. Sets up Python on the runner\n",
    "\n",
    "3. Installs our package and the package dependencies\n",
    "\n",
    "4. Check Style of package code and test suite\n",
    "\n",
    "5. Run test suite\n",
    "\n",
    "6. Upload coverage report to codecov.io\n",
    "\n",
    "7. \n",
    "\n",
    "8.\n",
    "\n",
    "9.\n",
    "\n",
    "10.\n",
    "\n",
    "11.\n",
    "\n",
    "12.\n",
    "\n",
    "> Note: I filled in the steps we went over last class, so you can just fill in the new stuff"
   ]
  },
  {
   "cell_type": "markdown",
   "metadata": {},
   "source": [
    "### How can we automate version bumping?\n",
    "\n",
    "Let's look at the step that accomplishes this:\n",
    "\n",
    "```\n",
    "- name: Bump version and tagging and publish\n",
    "      run: |\n",
    "        git config --local user.email \"action@github.com\"\n",
    "        git config --local user.name \"GitHub Action\"\n",
    "        git pull origin master\n",
    "        poetry run semantic-release version\n",
    "        poetry version $(grep \"version\" */__init__.py | cut -d \"'\" -f 2 | cut -d '\"' -f 2)\n",
    "        git commit -m \"Add changes\" -a\n",
    "```\n",
    "\n",
    "Our key command in this step is `poetry run semantic-release version`. \n",
    "\n",
    "[Python semantic-release](https://python-semantic-release.readthedocs.io/en/latest/) is a Python tool which parses commit messages looking for keywords to indicate how to bump the version. It bumps the version in the `__init__.py` file of your package, and then we use `poetry version` and some regex to grab that version from `__init__.py` and also update the `pyproject.toml` file.\n",
    "\n",
    "To understand how it works so that we can use it, we need to understand **semantic versioning** and how to write **conventional commit** messages.\n",
    "\n",
    "Let's unpack eack of these on its own."
   ]
  },
  {
   "cell_type": "markdown",
   "metadata": {
    "slideshow": {
     "slide_type": "slide"
    }
   },
   "source": [
    "## Semantic versioning"
   ]
  },
  {
   "cell_type": "markdown",
   "metadata": {
    "slideshow": {
     "slide_type": "fragment"
    }
   },
   "source": [
    "- When we make changes and publish new versions of our packages, we should tag these with a version number so that we and others can view and use older versions of the package if needed. \n"
   ]
  },
  {
   "cell_type": "markdown",
   "metadata": {
    "slideshow": {
     "slide_type": "fragment"
    }
   },
   "source": [
    "- These version numbers should also communicate something about how the underlying code has changed from one version to the next. "
   ]
  },
  {
   "cell_type": "markdown",
   "metadata": {
    "slideshow": {
     "slide_type": "fragment"
    }
   },
   "source": [
    "- Semantic versioning is an agreed upon \"code\" by developers that gives meaning to version number changes, so developers and users can make meaningful predictions about how code changes between versions from looking solely at the version numbers."
   ]
  },
  {
   "cell_type": "markdown",
   "metadata": {
    "slideshow": {
     "slide_type": "fragment"
    }
   },
   "source": [
    "- Semantic versioning assumes version 1.0.0 defines the API, and the changes going forward use that as a starting reference."
   ]
  },
  {
   "cell_type": "markdown",
   "metadata": {
    "slideshow": {
     "slide_type": "slide"
    }
   },
   "source": [
    "## Semantic versioning\n",
    "\n",
    "Given a version number `MAJOR.MINOR.PATCH` (e.g., `2.3.1`), increment the:"
   ]
  },
  {
   "cell_type": "markdown",
   "metadata": {
    "slideshow": {
     "slide_type": "fragment"
    }
   },
   "source": [
    "- MAJOR version when you make incompatible API changes (often called breaking changes 💥) "
   ]
  },
  {
   "cell_type": "markdown",
   "metadata": {
    "slideshow": {
     "slide_type": "fragment"
    }
   },
   "source": [
    "- MINOR version when you add functionality in a backwards compatible manner ✨↩️"
   ]
  },
  {
   "cell_type": "markdown",
   "metadata": {
    "slideshow": {
     "slide_type": "fragment"
    }
   },
   "source": [
    "- PATCH version when you make backwards compatible bug fixes 🐞\n",
    "\n",
    "*Source: https://semver.org/*"
   ]
  },
  {
   "cell_type": "markdown",
   "metadata": {
    "slideshow": {
     "slide_type": "slide"
    }
   },
   "source": [
    "### Semantic versioning case study"
   ]
  },
  {
   "cell_type": "markdown",
   "metadata": {
    "slideshow": {
     "slide_type": "fragment"
    }
   },
   "source": [
    "**Case 1:** In June 2009, Python bumped versions from 3.0.1, some changes in the new release included:\n",
    "- Addition of an ordered dictionary type\n",
    "- A pure Python reference implementation of the import statement\n",
    "- New syntax for nested with statements"
   ]
  },
  {
   "cell_type": "markdown",
   "metadata": {
    "slideshow": {
     "slide_type": "fragment"
    }
   },
   "source": [
    "**Case 2:** In Dec 2017, Python bumped versions from 3.6.3, some changes in the new release included:\n",
    "\n",
    "- Fixed several issues in printing tracebacks (`PyTraceBack_Print()`).\n",
    "- Fix the interactive interpreter looping endlessly when no memory.\n",
    "- Fixed an assertion failure in Python parser in case of a bad `unicodedata.normalize()`"
   ]
  },
  {
   "cell_type": "markdown",
   "metadata": {
    "slideshow": {
     "slide_type": "fragment"
    }
   },
   "source": [
    "**Case 3:** In Feb 2008, Python bumped versions from 2.7.17, some changes in the new release included:\n",
    "- `print` became a function\n",
    "- integer division resulted in creation of a float, instead of an integer\n",
    "- Some well-known APIs no longer returned lists (e.g., `dict.keys`, `dict.values`, `map`)"
   ]
  },
  {
   "cell_type": "markdown",
   "metadata": {
    "slideshow": {
     "slide_type": "slide"
    }
   },
   "source": [
    "### Exercise: name that semantic version release\n",
    "\n",
    "Read the three cases posted above and state whether each should be a major, minor or patch version bump. Then write down the next version number the new release should have.\n",
    "\n",
    "> Your answer here"
   ]
  },
  {
   "cell_type": "markdown",
   "metadata": {
    "slideshow": {
     "slide_type": "slide"
    }
   },
   "source": [
    "## Conventional commit messages\n",
    "\n",
    "Python semantic-release by default uses a parser that works on the conventional (or Angular) commit message style, which is:\n",
    "\n",
    "```\n",
    "<type>(optional scope): succinct description of the change\n",
    "\n",
    "(optional body: the motivation for the change and contrast this with previous behavior)\n",
    "\n",
    "(optional footer: note BREAKING CHANGES here, as well as any issues to be closed)\n",
    "```\n"
   ]
  },
  {
   "cell_type": "markdown",
   "metadata": {
    "slideshow": {
     "slide_type": "fragment"
    }
   },
   "source": [
    "How to affect semantic versioning with conventional commit messages:\n",
    "- a commit with the type `fix` leads to a patch version bump\n",
    "- a commit with the type `feat` leads to a minor version bump\n",
    "- a commit with a body or footer that starts with `BREAKING CHANGE:` - these can be of any type"
   ]
  },
  {
   "cell_type": "markdown",
   "metadata": {
    "slideshow": {
     "slide_type": "notes"
    }
   },
   "source": [
    "> Note - commit types other than `fix` and `feat` are allowed. Recommeneded ones include `docs`, `style`, `refactor`, `test`, `ci` and [others](https://github.com/angular/angular/blob/master/CONTRIBUTING.md#type)."
   ]
  },
  {
   "cell_type": "markdown",
   "metadata": {
    "slideshow": {
     "slide_type": "slide"
    }
   },
   "source": [
    "### An example of a conventional commit message\n",
    "\n",
    "```\n",
    "git commit -m \"feat(ratings): added the ability to initialize a project even if a pyproject.toml file exists\n",
    "\n",
    "This has been a feature requested by different poetry users (including me!).  \n",
    "\n",
    "closes #1639\"\n",
    "```"
   ]
  },
  {
   "cell_type": "markdown",
   "metadata": {
    "slideshow": {
     "slide_type": "fragment"
    }
   },
   "source": [
    "What kind of version bump would this result in?"
   ]
  },
  {
   "cell_type": "markdown",
   "metadata": {
    "slideshow": {
     "slide_type": "slide"
    }
   },
   "source": [
    "### Another example of a conventional commit message\n",
    "\n",
    "```\n",
    "git commit -m \"feat: change to use of `%>%` to add new layers to ggplot objects\n",
    "\n",
    "This is a joke! But an interesting piece of related trivia is this is how the original ggplot was designed!\n",
    "\n",
    "BREAKING CHANGE: `+` operator will no longer work for adding new layers to ggplot objects after this release\n",
    "```"
   ]
  },
  {
   "cell_type": "markdown",
   "metadata": {
    "slideshow": {
     "slide_type": "fragment"
    }
   },
   "source": [
    "What kind of version bump would this result in?"
   ]
  },
  {
   "cell_type": "markdown",
   "metadata": {
    "slideshow": {
     "slide_type": "slide"
    }
   },
   "source": [
    "### Some practical notes for usage in your packages:\n",
    "\n",
    "0. You must add `python-semantic-release` as a dev dependency via poetry\n",
    "\n",
    "1. You must add the following to the tool section of your `pyproject.toml` file for this to work (filling in `<package_name>` with the appropriate value):\n",
    "    ```\n",
    "    [tool.semantic_release]\n",
    "    version_variable = \"<package_name>/__init__.py:__version__\"\n",
    "    version_source = \"commit\"\n",
    "    upload_to_pypi = \"false\"\n",
    "    patch_without_tag = \"true\"\n",
    "    ```\n",
    "2. If `feat` or `BREAKING CHANGES:` are not included in the commits when a pull request is merged to master, by default Python's `semantic-release` bumps the patch version."
   ]
  },
  {
   "cell_type": "markdown",
   "metadata": {
    "slideshow": {
     "slide_type": "slide"
    }
   },
   "source": [
    "### Demo of Continous Development\n",
    "\n",
    "- <https://github.com/ttimbers/convertempPy>"
   ]
  },
  {
   "cell_type": "markdown",
   "metadata": {
    "slideshow": {
     "slide_type": "slide"
    }
   },
   "source": [
    "### What about CD with R packages\n",
    "\n",
    "- This is not a common practice (yet!). One reason for this could be that CRAN has a policy where they only want to see updates every 1-2 months.\n",
    "\n",
    "- Semantic versioning is used in Tidyverse R packages, but creating versions is done manually"
   ]
  },
  {
   "cell_type": "markdown",
   "metadata": {
    "slideshow": {
     "slide_type": "slide"
    }
   },
   "source": [
    "## Package-level documentation for Python\n",
    "\n",
    "TODO!!!"
   ]
  },
  {
   "cell_type": "markdown",
   "metadata": {
    "slideshow": {
     "slide_type": "slide"
    }
   },
   "source": [
    "## Package documentation for R\n",
    "\n",
    "There are several levels of documentation possible for R packages:\n",
    "- code-level documentation (Roxygen-style comments)\n",
    "- vignettes\n",
    "- package websites (via `pkgdown`)"
   ]
  },
  {
   "cell_type": "markdown",
   "metadata": {
    "slideshow": {
     "slide_type": "slide"
    }
   },
   "source": [
    "### Code-level documentation (Roxygen-style comments)\n",
    "\n",
    "- We learned the basics of how to write Roxygen-style comments in DSCI 511\n",
    "- In the package context, there are Namespace tags you should know about:\n",
    "    - `@export` - this should be added to all package functions you want your user to know about\n",
    "    - `@NoRd` - this should be added to helper/internal helper functions that you don't want your user to know about"
   ]
  },
  {
   "cell_type": "markdown",
   "metadata": {
    "slideshow": {
     "slide_type": "slide"
    }
   },
   "source": [
    "### Vignettes\n",
    "- Think of your vignette as a demonstration of how someone would use your function to solve a problem. \n",
    "\n",
    "- It should demonstrate how the individual functions in your package work, as well as how they can be integrated together.\n",
    "\n",
    "- To create a template for your vignette, run:\n",
    "    ```\n",
    "    usethis::use_vignette(\"package_name-vignette\")\n",
    "    ```\n",
    "    \n",
    "- Add content to that file and knit it when done.\n",
    "\n",
    "As an example, here's the `dplyr` vignette: <https://cran.r-project.org/web/packages/dplyr/vignettes/dplyr.html>"
   ]
  },
  {
   "cell_type": "markdown",
   "metadata": {
    "slideshow": {
     "slide_type": "slide"
    }
   },
   "source": [
    "### Package websites (via [`pkgdown](https://pkgdown.r-lib.org/)`)\n",
    "\n",
    "- Vignettes are very helpful, however they are not that discoverable by others, websites are a much easier way to share your package with others\n",
    "\n",
    "- The `pkgdown` R package let's you build a beautiful website for your R package in 4 steps!\n",
    "\n",
    "    1. Install `pkgdown`: `install.packages(\"pkgdown\")\n",
    "\n",
    "    2. Run `pkgdown::build_site()` from the root of your project, and commit and push the changes made by this.\n",
    "\n",
    "    3. Turn on GitHub pages in your package repository, setting `master branch / docs folder` as the source.\n",
    "    \n",
    "    4. Oh wait, there's no step 4! 🎉"
   ]
  },
  {
   "cell_type": "markdown",
   "metadata": {
    "slideshow": {
     "slide_type": "fragment"
    }
   },
   "source": [
    "In addition to the beautiful website, `pkgdown` automatically links to your vignette under the articles section of the website!!! 🎉🎉🎉"
   ]
  },
  {
   "cell_type": "markdown",
   "metadata": {
    "slideshow": {
     "slide_type": "slide"
    }
   },
   "source": [
    "## Publishing your Python package for this milestone:\n",
    "\n",
    "For this course, we will only publish your package on test PyPI. You will use continuous deployment via the `release.yml` workflow file to do this.\n",
    "\n",
    "To get your packages README and important links to show-up on the test PyPI page for your package, add the  following information to the [tool.poetry] table in pyproject.toml\n",
    "\n",
    "```\n",
    "readme = \"README.md\"\n",
    "homepage = \"https://github.com/<github_username>/<github_repo>\"\n",
    "repository = \"https://github.com/<github_username>/<github_repo>\"\n",
    "documentation = 'https://<package_name>.readthedocs.io'\n",
    "```"
   ]
  },
  {
   "cell_type": "markdown",
   "metadata": {
    "slideshow": {
     "slide_type": "slide"
    }
   },
   "source": [
    "## Publishing your R package for this milestone:\n",
    "\n",
    "For this course, we will only publish your package on GitHub, not CRAN. For this to work, you need to push your package code to GitHub and provide users these instructions to download, build and install your package:\n",
    "\n",
    "```\n",
    "# install.packages(\"devtools\")\n",
    "devtools::install_github(\"ttimbers/convertempr\")\n",
    "```\n",
    "\n",
    "Next week we will talk about publishing on CRAN."
   ]
  },
  {
   "cell_type": "markdown",
   "metadata": {},
   "source": [
    "## Summary\n",
    "\n",
    " What did we learn today? Biggest take homes?\n",
    " \n",
    " - \n",
    " \n",
    " - \n",
    " \n",
    " - \n",
    " "
   ]
  },
  {
   "cell_type": "markdown",
   "metadata": {
    "slideshow": {
     "slide_type": "slide"
    }
   },
   "source": [
    "## Where to next:\n",
    "\n",
    "- Tha package indices, PyPI and CRAN\n",
    "- Peer review of data science software packages\n",
    "- Working with other teams (specifications, opening issues, how to ask for help, etc) \n",
    "- Licenses"
   ]
  },
  {
   "cell_type": "markdown",
   "metadata": {
    "slideshow": {
     "slide_type": "notes"
    }
   },
   "source": [
    "### Semantic versioning case study - answers\n",
    "\n",
    "In 2008, Python bumped versions from 2.7.17 to 3.0.0. Some changes in the 3.0.0 release included:\n",
    "- `print` became a function\n",
    "- integer division resulted in creation of a float, instead of an integer\n",
    "- Some well-known APIs no longer returned lists (e.g., `dict.keys`, `dict.values`, `map`)\n",
    "- and many more (see [here](https://docs.python.org/3.0/whatsnew/3.0.html) if interested)\n",
    "\n",
    "[*Source*](https://docs.python.org/3.0/whatsnew/3.0.html)"
   ]
  },
  {
   "cell_type": "markdown",
   "metadata": {
    "slideshow": {
     "slide_type": "notes"
    }
   },
   "source": [
    "In 2009, Python bumped versions from 3.0.1 to 3.1.0. Some changes in the 3.1.0 release included:\n",
    "- Addition of an ordered dictionary type\n",
    "- A pure Python reference implementation of the import statement\n",
    "- New syntax for nested with statements\n",
    "\n",
    "[*Source*](https://www.python.org/download/releases/3.1/)"
   ]
  },
  {
   "cell_type": "markdown",
   "metadata": {
    "slideshow": {
     "slide_type": "notes"
    }
   },
   "source": [
    "In 2017, Python bumped versions from 3.6.3 to 3.6.4. Some changes in the 3.6.4 release included:\n",
    "\n",
    "- Fixed several issues in printing tracebacks (`PyTraceBack_Print()`).\n",
    "- Fix the interactive interpreter looping endlessly when no memory.\n",
    "- Fixed an assertion failure in Python parser in case of a bad `unicodedata.normalize()`\n",
    "\n",
    "[*Source*](https://docs.python.org/3.6/whatsnew/changelog.html#python-3-6-4-final)"
   ]
  }
 ],
 "metadata": {
  "celltoolbar": "Slideshow",
  "kernelspec": {
   "display_name": "Python 3",
   "language": "python",
   "name": "python3"
  },
  "language_info": {
   "codemirror_mode": {
    "name": "ipython",
    "version": 3
   },
   "file_extension": ".py",
   "mimetype": "text/x-python",
   "name": "python",
   "nbconvert_exporter": "python",
   "pygments_lexer": "ipython3",
   "version": "3.7.6"
  }
 },
 "nbformat": 4,
 "nbformat_minor": 4
}
