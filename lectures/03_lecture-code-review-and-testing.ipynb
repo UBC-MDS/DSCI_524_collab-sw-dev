{
 "cells": [
  {
   "cell_type": "markdown",
   "metadata": {},
   "source": [
    "## DSCI 524 - Collaborative Software Development\n",
    "\n",
    "### Lecture 3: Code reviews, functional testing and advice for testing complex things\n",
    "\n",
    "#### 2020-03-02"
   ]
  },
  {
   "cell_type": "markdown",
   "metadata": {},
   "source": [
    "## Lecture 3 learning objectives:\n",
    "By the end of this lecture, students should be able to:\n",
    "\n",
    "- [Perform a code review that uses inline comments and suggested code fixes.](#Code-reviews-using-inline-comments-and-suggested-code-fixes)\n",
    "- Write unit tests for complex objects (e.g., data frames, models, plots).\n",
    "- Define functional testing, and the following 3 types of functional testing:\n",
    "    - unit testing\n",
    "    - integration testing\n",
    "    - regression testing\n",
    "- Define code, test and branch coverage. Explain high coverage in each of these metrics is desired.\n",
    "- Employ a workflow that optimizes accurate code.\n",
    "- Use `pytest` and `testhat` to run a project's entire test suite\n",
    "- Explain how `pytest` and `testhat` find the test functions when they are asked to run a project's entire test suite"
   ]
  },
  {
   "cell_type": "markdown",
   "metadata": {},
   "source": [
    "## Code reviews using inline comments and suggested code fixes\n",
    "\n",
    "- Notes TBD"
   ]
  },
  {
   "cell_type": "markdown",
   "metadata": {},
   "source": [
    "### Exercise: do a code review:\n",
    "\n",
    "To Do: Tiffany, creeate a demo repo that students will use GitHub Actions to trigger a PR from mds-octocat using this example: https://github.com/marketplace/actions/create-pull-request\n",
    "\n",
    "#### Steps:\n",
    "\n",
    "1. **Import** a copy of [this GitHub repository]()\n",
    "\n",
    "2. Using the GitHub webpage, make a new branch called `pr` in your copy of that repository (this will generate a pull request for you to review).\n",
    "\n",
    "3. Go to the Pull Requests tab of your copy of the repository and click on \"Files Changed\". Then click on the `*.R` file.\n",
    "\n",
    "4. Use the `+` sign beside line 3 and add a general comment about ...\n",
    "\n",
    "5. Use the `+` sign beside line 15 and suggest a code change (via the method shown below):"
   ]
  },
  {
   "cell_type": "raw",
   "metadata": {},
   "source": [
    "```suggest \n",
    "# suggested change goes here\n",
    "``` "
   ]
  },
  {
   "cell_type": "markdown",
   "metadata": {},
   "source": [
    "6. Add a general comment for the code review, select \"Request Changes\" and submit your code review.\n",
    "\n",
    "**When you are done step #6 indicate so on the [sli.do](https://www.sli.do) poll (`#524-L03`).**\n"
   ]
  },
  {
   "cell_type": "markdown",
   "metadata": {},
   "source": [
    "### Exercise: Accept suggested changes from a code review:\n",
    "\n",
    "#### Steps:\n",
    "\n"
   ]
  },
  {
   "cell_type": "markdown",
   "metadata": {},
   "source": [
    "```\n",
    "poetry run pytest --cov-branch --cov-report term --cov=convertempPy tests\n",
    "```"
   ]
  },
  {
   "cell_type": "markdown",
   "metadata": {},
   "source": []
  },
  {
   "cell_type": "markdown",
   "metadata": {},
   "source": []
  },
  {
   "cell_type": "markdown",
   "metadata": {},
   "source": []
  },
  {
   "cell_type": "markdown",
   "metadata": {},
   "source": []
  },
  {
   "cell_type": "markdown",
   "metadata": {},
   "source": []
  },
  {
   "cell_type": "markdown",
   "metadata": {},
   "source": []
  },
  {
   "cell_type": "markdown",
   "metadata": {},
   "source": []
  },
  {
   "cell_type": "markdown",
   "metadata": {},
   "source": []
  },
  {
   "cell_type": "markdown",
   "metadata": {},
   "source": []
  },
  {
   "cell_type": "markdown",
   "metadata": {},
   "source": []
  }
 ],
 "metadata": {
  "kernelspec": {
   "display_name": "Python 3",
   "language": "python",
   "name": "python3"
  },
  "language_info": {
   "codemirror_mode": {
    "name": "ipython",
    "version": 3
   },
   "file_extension": ".py",
   "mimetype": "text/x-python",
   "name": "python",
   "nbconvert_exporter": "python",
   "pygments_lexer": "ipython3",
   "version": "3.7.6"
  }
 },
 "nbformat": 4,
 "nbformat_minor": 4
}
