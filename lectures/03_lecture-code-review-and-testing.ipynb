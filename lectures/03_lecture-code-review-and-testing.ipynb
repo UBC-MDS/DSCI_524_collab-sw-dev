{
 "cells": [
  {
   "cell_type": "markdown",
   "metadata": {
    "slideshow": {
     "slide_type": "slide"
    }
   },
   "source": [
    "## DSCI 524 - Collaborative Software Development\n",
    "\n",
    "### Lecture 3: Code reviews, functional testing and advice for testing complex things\n",
    "\n",
    "#### 2020-03-02"
   ]
  },
  {
   "cell_type": "markdown",
   "metadata": {
    "slideshow": {
     "slide_type": "slide"
    }
   },
   "source": [
    "## Lecture 3 learning objectives:\n",
    "By the end of this lecture, students should be able to:\n",
    "\n",
    "- [Perform a code review that uses inline comments and suggested code fixes.](#Code-reviews-using-in-line-comments-and-suggested-code-fixes)\n",
    "- [Define the following 3 types of testing](#Some-common-and-useful-types-of-testing):\n",
    "    - unit testing\n",
    "    - integration testing\n",
    "    - regression testing\n",
    "- [Employ a workflow that optimizes accurate code.](#Employing-a-workflow-that-optimizes-accurate-code)\n",
    "- [Use `pytest` and `testhat` to run a project's entire test suite](#How-testthat-works:)\n",
    "- [Explain how `pytest` and `testhat` find the test functions when they are asked to run a project's entire test suite](#How-testthat-works:)\n",
    "- [Write unit tests for complex objects (e.g., data frames, models, plots).](#Write-unit-tests-for-complex-objects)"
   ]
  },
  {
   "cell_type": "markdown",
   "metadata": {
    "slideshow": {
     "slide_type": "slide"
    }
   },
   "source": [
    "## Code reviews using in-line comments and suggested code fixes\n",
    "\n",
    "- In the project, you are expected to read and review eachother's code BEFORE accepting a pull request. \n",
    "\n",
    "- Do not expect all (or even most) pull requests to be perfect in their first submission. \n",
    "\n",
    "- We very often need to have a conversation to get pull requests into good shape before merging into master, and GitHub has a very nice tool we can utilize to do this: **GitHub code reviews**\n",
    "\n",
    "\n",
    "<img src =\"https://help.github.com/assets/images/help/commits/hover-comment-icon.gif\" width=700>\n",
    "\n",
    "*Source: <https://help.github.com/en/github/collaborating-with-issues-and-pull-requests/reviewing-proposed-changes-in-a-pull-request>*"
   ]
  },
  {
   "cell_type": "markdown",
   "metadata": {
    "slideshow": {
     "slide_type": "slide"
    }
   },
   "source": [
    "### Exercise: do a code review:\n",
    "\n",
    "We are going to each do our own code review of a pull request. I have set-up a template GitHub repository for you so that you can easily generate a pull request for you to review.\n",
    "\n",
    "#### Steps:\n",
    "\n",
    "**When you are done step #5 indicate so on the [sli.do](https://www.sli.do) poll (`#524-L03`).**\n",
    "\n",
    "1. **Import** [this repository](https://github.com/ttimbers/review-my-pull-request) to obtain a copy of it for yourself (do not fork it).\n",
    "\n",
    "2. Create a remote branch named `pr` (this will use GitHub Actions to create a pull request for you to review in this repository).\n",
    "\n",
    "3. Click on the Pull Requests tab of your copy of the repository, click on the pull request titled \"Report most accomplished pilots\", and then click on \"Files Changed\". Next click on the `star-wars.Rmd` file. Review the file and observe the following problems with the R Markdown report that was submitted via the pull request:\n",
    "  - Reasoning of the sentence on line 15\n",
    "  - Incompatibility with the sentence on line 15 with the code in the code chunk named `table-of-most-accomplished-pilots`\n",
    "  - Incorrect code in code chunk named `table-of-most-accomplished-pilots` (unested `film` instead of `starships`) leads to naming the wrong pilot as the most accomplished pilot on line 27\n",
    "  - Incorrect code in code chunk named `table-of-most-accomplished-pilots` (unested `film` instead of `starships`) leads to the use of the wrong character's picture in the image that is sourced in the code chunk named `top-pilot` (it should be a picture of Han Solo, you could use this URL for example: <https://i1.wp.com/twinfinite.net/wp-content/uploads/2015/11/harrison-ford-Mill_3222044i.jpg>).\n",
    "\n",
    "4. Add comments and suggested changes using the `+` sign beside the line numbers (the first time you do this will trigger the start of your code review. Need help? See [GitHub's how to on reviewing proposed changes in a pull request](https://help.github.com/en/github/collaborating-with-issues-and-pull-requests/reviewing-proposed-changes-in-a-pull-request).\n",
    "\n",
    "5. After you have made all the comments and suggested changes, then add a general comment for the code review, select \"Request Changes\" and submit your code review.\n",
    "\n"
   ]
  },
  {
   "cell_type": "markdown",
   "metadata": {},
   "source": [
    "**When you are done step #5 indicate so on the [sli.do](https://www.sli.do) poll (`#524-L03`).**\n"
   ]
  },
  {
   "cell_type": "markdown",
   "metadata": {
    "slideshow": {
     "slide_type": "slide"
    }
   },
   "source": [
    "### Exercise: Accept suggested changes from a code review:\n",
    "\n",
    "#### Steps:\n",
    "\n",
    "1. Practice accepting code changes that you provided as suggestions by revisiting the Pull Requests tab of your copy of the repository and clicking on the pull request titled \"Report most accomplished pilots\". Scroll through the pull request comments and find the code suggestions. Then click on the \"Commit suggestion button\" for each suggestion. \n",
    "\n",
    "2. Click on the \"Show all reviewers\" link beside the red \"Changes requested\"\" text. Then click on the `...` beside the reviewer and click \"Approve changes\".\n",
    "\n",
    "3. Finally click on the green buttons (\"Merge Pull Request\" & \"Confirm merge\") to merge the pull request.\n",
    "\n",
    "**When you are done step #3 indicate so on the [sli.do](https://www.sli.do) poll (`#524-L03`).**"
   ]
  },
  {
   "cell_type": "markdown",
   "metadata": {
    "slideshow": {
     "slide_type": "slide"
    }
   },
   "source": [
    "### Discussion: \n",
    "\n",
    "Was there anything we should have done differently with that code review?"
   ]
  },
  {
   "cell_type": "markdown",
   "metadata": {
    "slideshow": {
     "slide_type": "fragment"
    }
   },
   "source": [
    "*Hint: if I didn't tell you that the top pilot was Han Solo, how would you have known that?*"
   ]
  },
  {
   "cell_type": "markdown",
   "metadata": {
    "slideshow": {
     "slide_type": "slide"
    }
   },
   "source": [
    "## Some common and useful types of testing\n",
    "\n",
    "- unit testing\n",
    "- integration testing\n",
    "- regression testing"
   ]
  },
  {
   "cell_type": "markdown",
   "metadata": {
    "slideshow": {
     "slide_type": "slide"
    }
   },
   "source": [
    "### Unit testing\n",
    "\n",
    "- Tests whether an individual component of a piece of software works as expected \n",
    "\n",
    "#### Think-pair-share:\n",
    "\n",
    "With your neighbour, come up with a description of an example of a unit test. "
   ]
  },
  {
   "cell_type": "markdown",
   "metadata": {
    "slideshow": {
     "slide_type": "slide"
    }
   },
   "source": [
    "### Integration testing\n",
    "\n",
    "- Tests whether separate components of a piece of software, which depend upon eachother, work together as expected.\n",
    "- **An example**: tests that checks whether `Pipeline` from `sklearn` works as expected.\n",
    "\n",
    "#### Think-pair-share:\n",
    "\n",
    "With your neighbour, discuss whether it always makes sense for software packages to have integration tests? Do you think your project needs integration tests?"
   ]
  },
  {
   "cell_type": "markdown",
   "metadata": {
    "slideshow": {
     "slide_type": "slide"
    }
   },
   "source": [
    "### Regression testing\n",
    "\n",
    "- Tests that check that recent changes to the code base do not break already implemented features.\n",
    "- This is done by running all (or a large) subset of tests that already exist after making changes to the code base to ensure they still all pass\n",
    "\n",
    "This is especially challenging in projects with a large code base when tests are split across many files and functions/code chunks. How can we do this? We can take advantage of using tools designed to automate this (e.g., `pytest` & `testthat`) and following their function/method, file & directory naming conventions & organization (more on this later in the lecture). "
   ]
  },
  {
   "cell_type": "markdown",
   "metadata": {
    "slideshow": {
     "slide_type": "slide"
    }
   },
   "source": [
    "## Testing methods:\n",
    "\n",
    "### Exercise: what are black box & white box testing\n",
    "\n",
    "Thinking back to the videos you watched before class, answer the following poll on on [sli.do](https://www.sli.do) using the code: `#524-L03`."
   ]
  },
  {
   "cell_type": "markdown",
   "metadata": {
    "slideshow": {
     "slide_type": "slide"
    }
   },
   "source": [
    "\n",
    "## Employing the following practices in your code development workflow helps you write accurate code:"
   ]
  },
  {
   "cell_type": "markdown",
   "metadata": {
    "slideshow": {
     "slide_type": "fragment"
    }
   },
   "source": [
    "1. Black box testing"
   ]
  },
  {
   "cell_type": "markdown",
   "metadata": {
    "slideshow": {
     "slide_type": "fragment"
    }
   },
   "source": [
    "2. White box testing"
   ]
  },
  {
   "cell_type": "markdown",
   "metadata": {
    "slideshow": {
     "slide_type": "fragment"
    }
   },
   "source": [
    "3. Writing your functions and tests close together in time, and improving them both iteratively"
   ]
  },
  {
   "cell_type": "markdown",
   "metadata": {
    "slideshow": {
     "slide_type": "fragment"
    }
   },
   "source": [
    "4. Automation of tests"
   ]
  },
  {
   "cell_type": "markdown",
   "metadata": {
    "slideshow": {
     "slide_type": "slide"
    }
   },
   "source": [
    "## Write unit tests for complex objects \n",
    "(e.g., data frames, models, plots)\n",
    "\n",
    "Writing unit tests for a single value, vector or list is fairly straight forward from what we have learned in 511, but what about more complex object? How do we write tests when our functions return:\n",
    "\n",
    "- data frames?\n",
    "- plot objects?\n",
    "- model objects?"
   ]
  },
  {
   "cell_type": "markdown",
   "metadata": {
    "slideshow": {
     "slide_type": "slide"
    }
   },
   "source": [
    "### General guidelings for testing data frames\n",
    "\n",
    "- Where possible, use functions designed specifically for this (e.g., `dplyr::all_equal` and `pandas.DataFrame.equals`).\n",
    "- If not possible, test for equality of important values (e.g., specific columns) and attributes (e.g., shape, column names, column type, etc) using the `expect_*` functions inside of `test_that` in R, or via assertions in Python."
   ]
  },
  {
   "cell_type": "markdown",
   "metadata": {
    "slideshow": {
     "slide_type": "slide"
    }
   },
   "source": [
    "### General guidelings for testing plot objects\n",
    "\n",
    "- Initial tests should be designed to test that plots have expected attributes (e.g., expected mark, correct mapping to axes, etc)\n",
    "- Once a desired plot is generated, visual regression tests can be used to ensure that further code refactoring does not change the plot function. Tools for this exist for R in the [`vdiffr`](https://github.com/r-lib/vdiffr) package. AFAIK the Python tools in this space have only been developed/used for GUI & web apps, perhpas they could be used for plots as well? I have not yet tried (nor found any examples of anyone who has)."
   ]
  },
  {
   "cell_type": "markdown",
   "metadata": {
    "slideshow": {
     "slide_type": "slide"
    }
   },
   "source": [
    "Consider this function, what tests might we write for it?"
   ]
  },
  {
   "cell_type": "code",
   "execution_count": 12,
   "metadata": {
    "slideshow": {
     "slide_type": "fragment"
    }
   },
   "outputs": [],
   "source": [
    "library(testthat)\n",
    "\n",
    "#' scatter2d \n",
    "#'\n",
    "#' A short-cut function for creating 2 dimensional scatterplots via ggplot2.\n",
    "#'\n",
    "#' @param data data.frame or tibble\n",
    "#' @param x unquoted column name to plot on the x-axis from data data.frame or tibble\n",
    "#' @param y unquoted column name to plot on the y-axis from data data.frame or tibble\n",
    "#'\n",
    "#' @return\n",
    "#' @export\n",
    "#'\n",
    "#' @examples\n",
    "#' scatter2d(mtcars, hp, mpg)\n",
    "scatter2d <- function(data, x, y) {\n",
    "    ggplot2::ggplot(data, ggplot2::aes(x = {{x}}, y = {{y}})) +\n",
    "        ggplot2::geom_point()\n",
    "}"
   ]
  },
  {
   "cell_type": "markdown",
   "metadata": {
    "slideshow": {
     "slide_type": "slide"
    }
   },
   "source": [
    "Let's see how we can get `ggplot2` object attributes by first creating an object with our function, and then poking around at the object:"
   ]
  },
  {
   "cell_type": "code",
   "execution_count": 31,
   "metadata": {
    "slideshow": {
     "slide_type": "fragment"
    }
   },
   "outputs": [],
   "source": [
    "plot2d <- scatter2d(mtcars, hp, mpg)"
   ]
  },
  {
   "cell_type": "markdown",
   "metadata": {
    "slideshow": {
     "slide_type": "slide"
    }
   },
   "source": [
    "Can we find the an attribute that tells us it has a `geom_point` attribute?"
   ]
  },
  {
   "cell_type": "code",
   "execution_count": 25,
   "metadata": {
    "slideshow": {
     "slide_type": "fragment"
    }
   },
   "outputs": [],
   "source": [
    "#plot2d$layers\n",
    "#plot2d$layers[[1]]$geom\n",
    "#class(plot2d$layers[[1]]$geom)"
   ]
  },
  {
   "cell_type": "markdown",
   "metadata": {
    "slideshow": {
     "slide_type": "slide"
    }
   },
   "source": [
    "Can we find the an attribute that tells us that the variables have been correctly mapped to the axes?"
   ]
  },
  {
   "cell_type": "code",
   "execution_count": 35,
   "metadata": {
    "slideshow": {
     "slide_type": "fragment"
    }
   },
   "outputs": [],
   "source": [
    "# x-axes\n",
    "#plot$mapping$x\n",
    "#rlang::get_expr(plot$mapping$x)"
   ]
  },
  {
   "cell_type": "code",
   "execution_count": 33,
   "metadata": {
    "slideshow": {
     "slide_type": "slide"
    }
   },
   "outputs": [],
   "source": [
    "# y-axes\n",
    "#plot$mapping$y\n",
    "#rlang::get_expr(plot$mapping$y)"
   ]
  },
  {
   "cell_type": "markdown",
   "metadata": {
    "slideshow": {
     "slide_type": "slide"
    }
   },
   "source": [
    "Great, now we know enough that can write some basic tests for our function. This function will need a plot to test on, so we need to create that first within our `test_that` chunk."
   ]
  },
  {
   "cell_type": "code",
   "execution_count": 38,
   "metadata": {
    "slideshow": {
     "slide_type": "fragment"
    }
   },
   "outputs": [],
   "source": [
    "test_that('Plot should use geom_point and map x to x-axis, and y to y-axis.', {\n",
    "    p <- scatter2d(mtcars, hp, mpg)\n",
    "    expect_true(\"GeomPoint\" %in% c(class(p$layers[[1]]$geom)))\n",
    "    expect_true(\"hp\"  == rlang::get_expr(p$mapping$x))\n",
    "    expect_true(\"mpg\" == rlang::get_expr(p$mapping$y))\n",
    "})"
   ]
  },
  {
   "cell_type": "markdown",
   "metadata": {
    "slideshow": {
     "slide_type": "slide"
    }
   },
   "source": [
    "### Other attributes you might want to test?\n",
    "\n",
    "- Labels via `\"Some label\" == p$labels$x` for the x-axis, for example\n",
    "- That a variable is mapped to colour via `a_variable == rlang::get_expr(p$colour)`, for example\n",
    "- That the plot is facetted via `\"FacetGrid\" %in% class(rlang::get_expr(side_by_side_world$facet))`"
   ]
  },
  {
   "cell_type": "markdown",
   "metadata": {
    "slideshow": {
     "slide_type": "slide"
    }
   },
   "source": [
    "### General guidelings for testing model objects\n",
    "\n",
    "- Initial tests should be designed to test that models have expected attributes and results\n",
    "- Only secondarily, may you want to compare to existing methods (rationale for this being second: what if their tests are wrong? Or worse, what if they don't have any!)"
   ]
  },
  {
   "cell_type": "markdown",
   "metadata": {
    "slideshow": {
     "slide_type": "slide"
    }
   },
   "source": [
    "### But I have another type of object? How do I test it?\n",
    "\n",
    "If you don't know where to start writing tests for the object you plan to use or return in your function, try the following:\n",
    "- make such an object and interactively explore it\n",
    "- look at other packages that have functions and return the same kind of object, what do they test for?"
   ]
  },
  {
   "cell_type": "markdown",
   "metadata": {
    "slideshow": {
     "slide_type": "slide"
    }
   },
   "source": [
    "## How testthat works:\n",
    "\n",
    "To run all tests in an R package that uses `testthat`, run the following from the R console with the working directory being set as the package's root directory:\n",
    "\n",
    "```\n",
    "devtools::test()\n",
    "```\n",
    "\n",
    "This command is a shortcut for `testthat::test_dir()`, and it runs all the files that live in `tests/testthat/` that start with `test`.\n",
    "\n",
    "*Source: [R Packages, Chapter 10](https://r-pkgs.org/tests.html)*"
   ]
  },
  {
   "cell_type": "markdown",
   "metadata": {
    "slideshow": {
     "slide_type": "slide"
    }
   },
   "source": [
    "### Organizing tests for your R package:\n",
    "\n",
    "Tests are organised hierarchically: **expectations** are grouped into **tests** which are organised in **files**:\n",
    "\n",
    "- An **expectation** is the atom of testing. It describes the expected result of a computation: Does it have the right value and right class? Does it produce error messages when it should? An expectation automates visual checking of results in the console. Expectations are functions that start with `expect_`.\n",
    "\n",
    "- A **test** groups together multiple expectations to test the output from a simple function, a range of possibilities for a single parameter from a more complicated function, or tightly related functionality from across multiple functions. This is why they are sometimes called **unit** as they test one unit of functionality. A test is created with `test_that()`.\n",
    "\n",
    "- A **file** groups together multiple related tests. Files are given a human readable name with `context()`.\n",
    "\n",
    "*Source: [R Packages, Chapter 10](https://r-pkgs.org/tests.html)*"
   ]
  },
  {
   "cell_type": "markdown",
   "metadata": {
    "slideshow": {
     "slide_type": "slide"
    }
   },
   "source": [
    "**Demonstration** of `devtools::test()` (time permitted)"
   ]
  },
  {
   "cell_type": "markdown",
   "metadata": {
    "slideshow": {
     "slide_type": "slide"
    }
   },
   "source": [
    "## How pytest works:\n",
    "\n",
    "To run all tests in an Python package that uses `pytest`, run the following from the command line with the working directory being set as the package's root directory:\n",
    "\n",
    "```\n",
    "poetry run pytest\n",
    "```\n",
    "\n",
    "> Note: because we are using Poetry to build our packages, we need to prefix the pytest command with `poetry run` so that the tests are run in our package's virtual environment.\n",
    "\n",
    "This command runs a recursive search (downward from the directory where this command is run) for files that are prefixed with `test_*.py` or `*_test.py` files which are imported by their test package name. From these files, it will run the functions whose names are pre-fixed with `test`."
   ]
  },
  {
   "cell_type": "markdown",
   "metadata": {
    "slideshow": {
     "slide_type": "slide"
    }
   },
   "source": [
    "**Demonstration** of `pytest` (time permitted)"
   ]
  },
  {
   "cell_type": "markdown",
   "metadata": {
    "slideshow": {
     "slide_type": "slide"
    }
   },
   "source": [
    "### General guidelines for test data and helper functions:\n",
    "\n",
    "- Keep your tests fast by creating toy data or using built-in data (e.g, `mtcars`) that you can feed to your unit tests. If you create toy data, do this within the unit test code block/function that uses that data. \n",
    "- If your tests need to be DRY'ed out in **R**, then:\n",
    "    - put your helper functions in a file in the `tests/testthat` directory that and pre-fix the filename with `helper` so that they will be run before the tests.\n",
    "    - store your data as a file in the `tests` directory.\n",
    "- If your tests need to be DRY'ed out in **Python**, then:\n",
    "    - **easier**: put your helper functions in the tests files where they are called. Do not use `test` in the name for these functions. \n",
    "    - **more flexible, but requires more effort**: either store your data as a file in the `tests` directory or use [pytest fixtures](https://www.tutorialspoint.com/pytest/pytest_fixtures.htm) to generate data in a function before the tests are run. Fixtures can also be used for keeping helper functions in a separate file."
   ]
  },
  {
   "cell_type": "markdown",
   "metadata": {
    "slideshow": {
     "slide_type": "slide"
    }
   },
   "source": [
    "## Summary\n",
    "\n",
    "What were the biggest take homes and/or most important new things you learned today?\n",
    "\n",
    "Enter your answers on the [sli.do](https://www.sli.do) poll (`#DSCI-L03`) and I will summarize and post the results here after class."
   ]
  },
  {
   "cell_type": "markdown",
   "metadata": {
    "slideshow": {
     "slide_type": "slide"
    }
   },
   "source": [
    "## Where are we headed next?\n",
    "\n",
    "- What is code coverage, why is it important and how do we measure it?\n",
    "- Upping our debiugging skills"
   ]
  }
 ],
 "metadata": {
  "celltoolbar": "Slideshow",
  "kernelspec": {
   "display_name": "R",
   "language": "R",
   "name": "ir"
  },
  "language_info": {
   "codemirror_mode": "r",
   "file_extension": ".r",
   "mimetype": "text/x-r-source",
   "name": "R",
   "pygments_lexer": "r",
   "version": "3.6.1"
  }
 },
 "nbformat": 4,
 "nbformat_minor": 4
}
