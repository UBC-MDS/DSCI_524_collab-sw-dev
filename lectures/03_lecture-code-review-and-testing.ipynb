{
 "cells": [
  {
   "cell_type": "markdown",
   "metadata": {},
   "source": [
    "## DSCI 524 - Collaborative Software Development\n",
    "\n",
    "### Lecture 3: Code reviews, functional testing and advice for testing complex things\n",
    "\n",
    "#### 2020-03-02"
   ]
  },
  {
   "cell_type": "markdown",
   "metadata": {},
   "source": [
    "## Lecture 3 learning objectives:\n",
    "By the end of this lecture, students should be able to:\n",
    "\n",
    "- [Perform a code review that uses inline comments and suggested code fixes.](#Code-reviews-using-in-line-comments-and-suggested-code-fixes)\n",
    "- Use `pytest` and `testhat` to run a project's entire test suite\n",
    "- Explain how `pytest` and `testhat` find the test functions when they are asked to run a project's entire test suite\n",
    "- [Write unit tests for complex objects (e.g., data frames, models, plots).](#Write-unit-tests-for-complex-objects)\n",
    "- Define functional testing, and the following 3 types of functional testing:\n",
    "    - unit testing\n",
    "    - integration testing\n",
    "    - regression testing\n",
    "- Define code, test and branch coverage. Explain high coverage in each of these metrics is desired.\n",
    "- Employ a workflow that optimizes accurate code.\n"
   ]
  },
  {
   "cell_type": "markdown",
   "metadata": {},
   "source": [
    "## Code reviews using in-line comments and suggested code fixes\n",
    "\n",
    "- Notes TBD"
   ]
  },
  {
   "cell_type": "markdown",
   "metadata": {},
   "source": [
    "### Exercise: do a code review:\n",
    "\n",
    "We are going to each do our own code review of a pull request. I have set-up a template GitHub repository for you so that you can easily generate a pull request for you to review.\n",
    "\n",
    "#### Steps:\n",
    "\n",
    "**When you are done step #5 indicate so on the [sli.do](https://www.sli.do) poll (`#524-L03`).**\n",
    "\n",
    "1. **Import** [this repository](https://github.com/ttimbers/review-my-pull-request) to obtain a copy of it for yourself (do not fork it).\n",
    "\n",
    "2. Create a remote branch named `pr` (this will use GitHub Actions to create a pull request for you to review in this repository).\n",
    "\n",
    "3. Click on the Pull Requests tab of your copy of the repository, click on the pull request titled \"Report most accomplished pilots\", and then click on \"Files Changed\". Next click on the `star-wars.Rmd` file. Review the file and observe the following problems with the R Markdown report that was submitted via the pull request:\n",
    "  - Reasoning of the sentence on line 15\n",
    "  - Incompatibility with the sentence on line 15 with the code in the code chunk named `table-of-most-accomplished-pilots`\n",
    "  - Incorrect code in code chunk named `table-of-most-accomplished-pilots` (unested `film` instead of `starships`) leads to naming the wrong pilot as the most accomplished pilot on line 27\n",
    "  - Incorrect code in code chunk named `table-of-most-accomplished-pilots` (unested `film` instead of `starships`) leads to the use of the wrong character's picture in the image that is sourced in the code chunk named `top-pilot` (it should be a picture of Han Solo, you could use this URL for example: <https://i1.wp.com/twinfinite.net/wp-content/uploads/2015/11/harrison-ford-Mill_3222044i.jpg>).\n",
    "\n",
    "4. Add comments and suggested changes using the `+` sign beside the line numbers (the first time you do this will trigger the start of your code review. Need help? See [GitHub's how to on reviewing proposed changes in a pull request](https://help.github.com/en/github/collaborating-with-issues-and-pull-requests/reviewing-proposed-changes-in-a-pull-request).\n",
    "\n",
    "5. After you have made all the comments and suggested changes, then add a general comment for the code review, select \"Request Changes\" and submit your code review.\n",
    "\n"
   ]
  },
  {
   "cell_type": "markdown",
   "metadata": {},
   "source": [
    "**When you are done step #5 indicate so on the [sli.do](https://www.sli.do) poll (`#524-L03`).**\n"
   ]
  },
  {
   "cell_type": "markdown",
   "metadata": {},
   "source": [
    "### Exercise: Accept suggested changes from a code review:\n",
    "\n",
    "#### Steps:\n",
    "\n",
    "1. Practice accepting code changes that you provided as suggestions by revisiting the Pull Requests tab of your copy of the repository and clicking on the pull request titled \"Report most accomplished pilots\". Scroll through the pull request comments and find the code suggestions. Then click on the \"Commit suggestion button\" for each suggestion. \n",
    "\n",
    "2. Click on the \"Show all reviewers\" link beside the red \"Changes requested\"\" text. Then click on the `...` beside the reviewer and click \"Approve changes\".\n",
    "\n",
    "3. Finally click on the green buttons (\"Merge Pull Request\" & \"Confirm merge\") to merge the pull request.\n",
    "\n",
    "**When you are done step #3 indicate so on the [sli.do](https://www.sli.do) poll (`#524-L03`).**"
   ]
  },
  {
   "cell_type": "markdown",
   "metadata": {},
   "source": [
    "### Discussion: \n",
    "\n",
    "Was there anything we should have done differently with that code review?"
   ]
  },
  {
   "cell_type": "markdown",
   "metadata": {},
   "source": [
    "*Hint: if I didn't tell you that the top pilot was Han Solo, how would you have known that?*"
   ]
  },
  {
   "cell_type": "markdown",
   "metadata": {},
   "source": [
    "## How testthat works:"
   ]
  },
  {
   "cell_type": "markdown",
   "metadata": {},
   "source": [
    "## How pytest works:"
   ]
  },
  {
   "cell_type": "markdown",
   "metadata": {},
   "source": [
    "## Write unit tests for complex objects \n",
    "(e.g., data frames, models, plots)\n",
    "\n",
    "Writing unit tests for a single value, vector or list is fairly straight forward from what we have learned in 511, but what about more complex object? How do we write tests when our functions return:\n",
    "\n",
    "- data frames?\n",
    "- plot objects?\n",
    "- model objects?"
   ]
  },
  {
   "cell_type": "markdown",
   "metadata": {},
   "source": [
    "### General guidelings for testing data frames\n",
    "\n",
    "- Where possible, use functions designed specifically for this (e.g., `dplyr::all_equal` and `pandas.DataFrame.equals`).\n",
    "- If not possible, test for equality of important values (e.g., specific columns) and attributes (e.g., shape, column names, column type, etc) using the `expect_*` functions inside of `test_that` in R, or via assertions in Python."
   ]
  },
  {
   "cell_type": "markdown",
   "metadata": {},
   "source": [
    "### General guidelings for testing plot objects\n",
    "\n",
    "- Initial tests should be designed to test that plots have expected attributes (e.g., expected mark, correct mapping to axes, etc)\n",
    "- Once a desired plot is generated, visual regression tests can be used to ensure that further code refactoring does not change the plot function. Tools for this exist for R in the [`vdiffr`](https://github.com/r-lib/vdiffr) package. AFAIK the Python tools in this space have only been developed/used for GUI & web apps, perhpas they could be used for plots as well? I have not yet tried (nor found any examples of anyone who has)."
   ]
  },
  {
   "cell_type": "markdown",
   "metadata": {},
   "source": [
    "### General guidelings for testing model objects"
   ]
  },
  {
   "cell_type": "markdown",
   "metadata": {},
   "source": [
    "### But I have another type of object? How do I test it?\n",
    "\n",
    "If you don't know where to start writing tests for the object you plan to use or return in your function, try the following:\n",
    "- make such an object and interactively explore it\n",
    "- look at other packages that have functions and return the same kind of object, what do they test for?"
   ]
  },
  {
   "cell_type": "markdown",
   "metadata": {},
   "source": [
    "### General guidelines for test data and helper functions:\n",
    "\n",
    "- Keep your tests fast by creating toy data or using built-in data (e.g, `mtcars`) that you can feed to your unit tests. If you create toy data, do this within the unit test code block/function that uses that data. \n",
    "- If your tests need to be DRY'ed out in R, then:\n",
    "    - put your helper functions in a file in the `tests` directory that uses `helper` in the filename to distinguish them from your user-facing functions\n",
    "    - store your data as a file in the `tests` directory.\n",
    "- If your tests need to be DRY'ed out in Python, then:\n",
    "    - put your helper functions in a file in the `tests` directory that uses `helper` in the filename to distinguish them from your user-facing functions. Do not use `test` in the name for these functions.\n",
    "    - either store your data as a file in the `tests` directory or use [pytest fixtures](https://www.tutorialspoint.com/pytest/pytest_fixtures.htm) to generate data in a function before the tests are run"
   ]
  },
  {
   "cell_type": "markdown",
   "metadata": {},
   "source": []
  },
  {
   "cell_type": "markdown",
   "metadata": {},
   "source": []
  },
  {
   "cell_type": "markdown",
   "metadata": {},
   "source": []
  },
  {
   "cell_type": "markdown",
   "metadata": {},
   "source": []
  },
  {
   "cell_type": "markdown",
   "metadata": {},
   "source": []
  },
  {
   "cell_type": "markdown",
   "metadata": {},
   "source": []
  },
  {
   "cell_type": "markdown",
   "metadata": {},
   "source": []
  },
  {
   "cell_type": "markdown",
   "metadata": {},
   "source": []
  },
  {
   "cell_type": "markdown",
   "metadata": {},
   "source": []
  },
  {
   "cell_type": "markdown",
   "metadata": {},
   "source": [
    "```\n",
    "poetry run pytest --cov-branch --cov-report term --cov=convertempPy tests\n",
    "```"
   ]
  }
 ],
 "metadata": {
  "kernelspec": {
   "display_name": "Python 3",
   "language": "python",
   "name": "python3"
  },
  "language_info": {
   "codemirror_mode": {
    "name": "ipython",
    "version": 3
   },
   "file_extension": ".py",
   "mimetype": "text/x-python",
   "name": "python",
   "nbconvert_exporter": "python",
   "pygments_lexer": "ipython3",
   "version": "3.7.6"
  }
 },
 "nbformat": 4,
 "nbformat_minor": 4
}
