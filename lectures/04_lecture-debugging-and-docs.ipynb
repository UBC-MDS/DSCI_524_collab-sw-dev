{
 "cells": [
  {
   "cell_type": "markdown",
   "metadata": {},
   "source": [
    "## DSCI 524 - Collaborative Software Development\n",
    "\n",
    "### Lecture 4: Debugging and package documentation\n",
    "\n",
    "#### 2020-03-04"
   ]
  },
  {
   "cell_type": "markdown",
   "metadata": {},
   "source": [
    "## Lecture 4 learning objectives:\n",
    "By the end of this lecture, students should be able to:\n",
    "\n",
    "- Define code, test and branch coverage. Explain high coverage in each of these metrics is desired.\n",
    "- [Manage package dependencies in R and Python packages.](#Dealing-with-other-package-dependencies-in-your-package)\n",
    "- Use `traceback`, `options(error = recover)`, and `browser` to debug R code\n",
    "- Use `traceback.print_tb`, `pdb.pm()`, `code.interact()` and `pdb.run` to debug Python code"
   ]
  },
  {
   "cell_type": "markdown",
   "metadata": {
    "slideshow": {
     "slide_type": "slide"
    }
   },
   "source": [
    "## Coverage\n",
    "\n",
    "**Definition:** Proportion of system being executed by the test suite.\n",
    "\n",
    "- usually reported as a percentage: $$Coverage = \\frac{covered}{covered + uncovered} * 100$$\n",
    "\n"
   ]
  },
  {
   "cell_type": "markdown",
   "metadata": {
    "slideshow": {
     "slide_type": "slide"
    }
   },
   "source": [
    "### Coverage metrics:\n",
    "\n",
    "There are many, but here are the ones our automated tools in this course will calculate for you:\n",
    "\n",
    "| Metric | Description                           | Dependent upon control flow |\n",
    "|--------|---------------------------------------|-----------------------------|\n",
    "| line   | lines of code that tests execute      | No                          |\n",
    "| branch | number of branches (independent code segments) that tests execute | Yes                         |\n"
   ]
  },
  {
   "cell_type": "markdown",
   "metadata": {
    "slideshow": {
     "slide_type": "slide"
    }
   },
   "source": [
    "### What exactly is a branch?\n",
    "\n",
    "```\n",
    "def my_function(x):\n",
    "    # Branch 1\n",
    "    if condition_met:\n",
    "        y = function_a(x)\n",
    "        z = function_b(y)\n",
    "    # Branch 2\n",
    "    else: \n",
    "        y = function_b(x)\n",
    "        z = function_c(y)\n",
    "    return z\n",
    "```\n",
    "\n",
    "*Adapted from: <http://www.ncover.com/blog/code-coverage-metrics-branch-coverage/>*"
   ]
  },
  {
   "cell_type": "markdown",
   "metadata": {
    "slideshow": {
     "slide_type": "slide"
    }
   },
   "source": [
    "## How are line and branch cover different?\n",
    "\n",
    "Consider the same example we just saw and the unit test below, let's manually calculate the coverage using line and branch coverage metrics:\n",
    "\n",
    "```\n",
    "def my_function(x):\n",
    "    # Branch 1\n",
    "    if x == \"pony\":\n",
    "        y = function_a(x)\n",
    "        z = function_b(y)\n",
    "    # Branch 2\n",
    "    else: \n",
    "        y = function_c(x)\n",
    "        w = function_d(y)\n",
    "        z = function_e(y)\n",
    "    return z\n",
    "```\n",
    "\n",
    "```\n",
    "def test_my_function():\n",
    "    assert my_function(\"pony\") == (\"Actually a unicorn\")\n",
    "```"
   ]
  },
  {
   "cell_type": "markdown",
   "metadata": {
    "slideshow": {
     "slide_type": "notes"
    }
   },
   "source": [
    "#### Using branch as the coverage metric:\n",
    "\n",
    "$Coverage = \\frac{covered}{covered + uncovered} * 100$\n",
    "\n",
    "$Coverage = \\frac{1}{1 + 1} * 100$\n",
    "\n",
    "$Coverage = 50\\%$"
   ]
  },
  {
   "cell_type": "markdown",
   "metadata": {
    "slideshow": {
     "slide_type": "notes"
    }
   },
   "source": [
    "#### Using line as the coverage metric:\n",
    "\n",
    "$Coverage = \\frac{covered}{covered + uncovered} * 100$\n",
    "\n",
    "$Coverage = \\frac{4}{4 + 4} * 100$\n",
    "\n",
    "$Coverage = 50\\%$"
   ]
  },
  {
   "cell_type": "markdown",
   "metadata": {
    "slideshow": {
     "slide_type": "slide"
    }
   },
   "source": [
    "### But wait, line coverage can be misleading... \n",
    "\n",
    "Let's alter our function and re-calculate line and branch coverage:\n",
    "\n",
    "```\n",
    "def my_function(x):\n",
    "    # Branch 1\n",
    "    if x == \"pony\":\n",
    "        y = function_a(x)\n",
    "        z = function_b(y)\n",
    "        print(z)\n",
    "        print(\"some important message\")\n",
    "        print(\"another important message\")\n",
    "        print(\"a less important message\")\n",
    "        print(\"just makin' stuff up here...\")\n",
    "        print(\"out of things to say...\")\n",
    "        print(\"how creative can I be...\")\n",
    "        print(\"I guess not very...\")\n",
    "    # Branch 2\n",
    "    else: \n",
    "        y = function_c(x)\n",
    "        w = function_d(y)\n",
    "        z = function_e(y)\n",
    "    return z\n",
    "```\n",
    "\n",
    "```\n",
    "def test_my_function():\n",
    "    assert my_function(\"pony\") == (\"Actually a unicorn\")\n",
    "```"
   ]
  },
  {
   "cell_type": "markdown",
   "metadata": {
    "slideshow": {
     "slide_type": "notes"
    }
   },
   "source": [
    "#### Using branch as the coverage metric:\n",
    "\n",
    "$Coverage = \\frac{covered}{covered + uncovered} * 100$\n",
    "\n",
    "$Coverage = \\frac{1}{1 + 1} * 100$\n",
    "\n",
    "$Coverage = 50\\%$"
   ]
  },
  {
   "cell_type": "markdown",
   "metadata": {
    "slideshow": {
     "slide_type": "notes"
    }
   },
   "source": [
    "#### Using line as the coverage metric:\n",
    "\n",
    "$Coverage = \\frac{covered}{covered + uncovered} * 100$\n",
    "\n",
    "$Coverage = \\frac{12}{12 + 4} * 100$\n",
    "\n",
    "$Coverage = 75\\%$"
   ]
  },
  {
   "cell_type": "markdown",
   "metadata": {
    "slideshow": {
     "slide_type": "slide"
    }
   },
   "source": [
    "### Take home message:\n",
    "\n",
    "Use branch coverage when you can, especially if your code uses control flow!"
   ]
  },
  {
   "cell_type": "markdown",
   "metadata": {},
   "source": [
    "## Dealing with other package dependencies in your package"
   ]
  },
  {
   "cell_type": "markdown",
   "metadata": {},
   "source": [
    "### Dealing with package dependencies in R\n",
    "\n",
    "- When we write code in our package that uses functions from other packages we need to import those functions from the namespace of their packages.\n",
    "\n",
    "- In R, we do this via `use_package`, which adds that package to the “Imports” section of DESCRIPTION\n",
    "\n",
    "- We also need to refer to that package in our function code, there are two ways to do this:\n",
    "  1. refer the function by `package::fun_name` (e.g., `dplyer::filter`) whenever you use the function in your code\n",
    "  2. add the function to your packages namespace so that you can just refer to it as your normally would. To do this add `@importFrom <package_name> <function_or_operator>` to the Roxygen documentation of the function that you would like to use the function from the other package in and then use `document()` to update the DESCRIPTION and NAMESPACE file. \n",
    "  \n",
    "*It is recommended to use method 1 (`pkg::fun_name`) because it is more explicit on what external functions your package code depends on (making it easier to read for collaborators, including future you). The trade off is that it’s a little more work to write.*"
   ]
  },
  {
   "cell_type": "markdown",
   "metadata": {},
   "source": [
    "### The pipe, `%>%`, a special dependency\n",
    "\n",
    "- Given the ubiquity of the pipe operator, `%>%`, in R, there is a function that automates exposing to your entire package: `usethis::use_pipe()`\n",
    "\n",
    "- Note, in general, the tidyverse team does not recommend using the pipe in packages unless they are personal, low use packages, or “pro” packages with a lot of data wrangling because:\n",
    "  - In most cases it is really an unnecessary dependency \n",
    "  - It is not that readable for folks who do not typically use the pipe\n",
    "  - makes debugging more challenging \n",
    "  \n",
    "So, should you use the pipe in your package? The answer is, it depends on your package's scope, aims and goals. Also, this is probably your first package, so it doesn't have to be perfect. If using the pipe helps you get the job done this time around, go for it. Just know that if you aim to ever build a widely used package, you probably do not want to depend on it."
   ]
  },
  {
   "cell_type": "markdown",
   "metadata": {},
   "source": [
    "### Dealing with package dependencies in Python\n",
    "\n",
    "- Given that we are using Poetry to manage our Python packages, we can take advantage of Poetry to manage our package dependencies. \n",
    "\n",
    "- To add a package dependency (one that our package functions depend on), we use `poetry add <package_name>`.\n",
    "\n",
    "- When we do this Poetry adds this depenedency to the `pyproject.toml` file under the `[tool.poetry.dependencies]` table as well as to the `poetry.lock` file.\n",
    "\n",
    "- Then we need to import these dependencies in our `.py` files where our functions live. Given that [PEP 08](https://www.python.org/dev/peps/pep-0008/) states that: _\"Imports are always put at the top of the file, just after any module comments and docstrings, and before module globals and constants.\"_ we typically do this at the very top of the file, even when we are writing code that will end up in a package.\n",
    "\n",
    "  > It is possible to import packages inside a function, and there is sound reasoning in doing so to make your code more readable, however, it goes against convention and so you need to get your whole team to agree to this if you want to do things this way."
   ]
  },
  {
   "cell_type": "markdown",
   "metadata": {},
   "source": [
    "### How does Poetry `install` use `pyproject.toml` & `poetry.lock`\n",
    "\n",
    "- The install command reads the `pyproject.toml` file from the current project, resolves the dependencies, and installs them.\n",
    "\n",
    "- If there is a `poetry.lock` file in the current directory, it will use the exact versions from there instead of resolving them. This ensures that everyone using the library will get the same versions of the dependencies.\n",
    "\n",
    "- If there is no `poetry.lock` file, Poetry will create one after dependency resolution.\n",
    "\n",
    "*Source: [Poetry install documentation](https://python-poetry.org/docs/cli/#install)*\n"
   ]
  },
  {
   "cell_type": "markdown",
   "metadata": {},
   "source": []
  },
  {
   "cell_type": "markdown",
   "metadata": {},
   "source": []
  },
  {
   "cell_type": "markdown",
   "metadata": {},
   "source": []
  },
  {
   "cell_type": "markdown",
   "metadata": {},
   "source": []
  },
  {
   "cell_type": "markdown",
   "metadata": {},
   "source": []
  },
  {
   "cell_type": "markdown",
   "metadata": {},
   "source": []
  },
  {
   "cell_type": "markdown",
   "metadata": {},
   "source": []
  },
  {
   "cell_type": "markdown",
   "metadata": {},
   "source": []
  },
  {
   "cell_type": "markdown",
   "metadata": {},
   "source": []
  },
  {
   "cell_type": "markdown",
   "metadata": {},
   "source": []
  },
  {
   "cell_type": "markdown",
   "metadata": {},
   "source": []
  },
  {
   "cell_type": "markdown",
   "metadata": {},
   "source": []
  },
  {
   "cell_type": "markdown",
   "metadata": {},
   "source": []
  },
  {
   "cell_type": "markdown",
   "metadata": {},
   "source": []
  },
  {
   "cell_type": "markdown",
   "metadata": {},
   "source": []
  },
  {
   "cell_type": "markdown",
   "metadata": {},
   "source": []
  },
  {
   "cell_type": "markdown",
   "metadata": {},
   "source": []
  }
 ],
 "metadata": {
  "celltoolbar": "Slideshow",
  "kernelspec": {
   "display_name": "Python 3",
   "language": "python",
   "name": "python3"
  },
  "language_info": {
   "codemirror_mode": {
    "name": "ipython",
    "version": 3
   },
   "file_extension": ".py",
   "mimetype": "text/x-python",
   "name": "python",
   "nbconvert_exporter": "python",
   "pygments_lexer": "ipython3",
   "version": "3.7.6"
  }
 },
 "nbformat": 4,
 "nbformat_minor": 4
}
