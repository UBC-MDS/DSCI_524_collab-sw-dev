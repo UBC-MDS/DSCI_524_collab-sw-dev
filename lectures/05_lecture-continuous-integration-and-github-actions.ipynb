{
 "cells": [
  {
   "cell_type": "markdown",
   "metadata": {
    "slideshow": {
     "slide_type": "slide"
    }
   },
   "source": [
    "## DSCI 524 - Collaborative Software Development\n",
    "\n",
    "### Lecture 5: Introductions to Continuous Integration (CI) & GitHub Actions\n",
    "\n",
    "#### 2020-03-09"
   ]
  },
  {
   "cell_type": "markdown",
   "metadata": {
    "slideshow": {
     "slide_type": "slide"
    }
   },
   "source": [
    "## Lecture 5 learning objectives:\n",
    "By the end of this lecture, students should be able to:\n",
    "- Define continuous integration testing\n",
    "- Explain why continuous integration testing is superior to manually running tests\n",
    "- Define the following key concepts that underlie GitHub Actions:\n",
    "    - Actions\n",
    "    - Workflow\n",
    "    - Event\n",
    "    - Runner\n",
    "    - Job\n",
    "    - Step\n",
    "- Use GitHub Actions to set-up automated running of tests by `pytest` upon push to the master branch\n",
    "- Use GitHub Actions to set-up automated running of tests by `testthat` upon push to the master branch"
   ]
  },
  {
   "cell_type": "markdown",
   "metadata": {
    "slideshow": {
     "slide_type": "slide"
    }
   },
   "source": [
    "## Continuous Integration (CI)\n",
    "\n",
    "Defined as the practice of **frequently** integrating code (*e.g.*, several times a day) changes from contributors to a shared repository. Often the submission of code to the shared repository is combined with automated testing (and other things, such as style checking) to increase code dependability and quality."
   ]
  },
  {
   "cell_type": "markdown",
   "metadata": {
    "slideshow": {
     "slide_type": "slide"
    }
   },
   "source": [
    "### Why use CI + automated testing\n",
    "\n",
    "- detects errors sooner\n",
    "- reduces the amount of code to be examined when debugging\n",
    "- facilitates merging\n",
    "- ensures new code additions do not introduce errors"
   ]
  },
  {
   "cell_type": "markdown",
   "metadata": {
    "slideshow": {
     "slide_type": "slide"
    }
   },
   "source": [
    "## GitHub actions\n",
    "\n",
    "A tool and service for automating software development tasks, located in the same place where you already store your code.\n",
    "\n",
    "### Key concepts:\n",
    "**Actions:** Individual tasks you want to perform.\n",
    "\n",
    "**Workflow:** A collection of actions (specified together in one file).\n",
    "\n",
    "**Event:** Something that triggers the running of a workflow.\n",
    "\n",
    "**Runner**: A machine that can run the Github Action(s).\n",
    "\n",
    "**Job**: A set of steps executed on the same runner.\n",
    "\n",
    "**Step**: A set of commands or actions which a job executes."
   ]
  },
  {
   "cell_type": "markdown",
   "metadata": {
    "slideshow": {
     "slide_type": "slide"
    }
   },
   "source": [
    "### GitHub Actions workflow file:\n",
    "\n",
    "A `YAML` file that lives in the `.github/workflows` directory or your repository which speciies your workflow. "
   ]
  },
  {
   "cell_type": "markdown",
   "metadata": {},
   "source": []
  },
  {
   "cell_type": "markdown",
   "metadata": {},
   "source": []
  },
  {
   "cell_type": "markdown",
   "metadata": {
    "slideshow": {
     "slide_type": "slide"
    }
   },
   "source": [
    "### Curated list of awesome actions to use on GitHub 🎉\n",
    "\n",
    "- <https://github.com/sdras/awesome-actions>"
   ]
  },
  {
   "cell_type": "markdown",
   "metadata": {},
   "source": []
  },
  {
   "cell_type": "markdown",
   "metadata": {},
   "source": []
  },
  {
   "cell_type": "markdown",
   "metadata": {},
   "source": []
  },
  {
   "cell_type": "markdown",
   "metadata": {},
   "source": []
  },
  {
   "cell_type": "markdown",
   "metadata": {},
   "source": []
  },
  {
   "cell_type": "markdown",
   "metadata": {},
   "source": []
  },
  {
   "cell_type": "markdown",
   "metadata": {},
   "source": []
  },
  {
   "cell_type": "markdown",
   "metadata": {},
   "source": []
  },
  {
   "cell_type": "markdown",
   "metadata": {},
   "source": []
  },
  {
   "cell_type": "code",
   "execution_count": null,
   "metadata": {},
   "outputs": [],
   "source": []
  }
 ],
 "metadata": {
  "celltoolbar": "Slideshow",
  "kernelspec": {
   "display_name": "Python 3",
   "language": "python",
   "name": "python3"
  },
  "language_info": {
   "codemirror_mode": {
    "name": "ipython",
    "version": 3
   },
   "file_extension": ".py",
   "mimetype": "text/x-python",
   "name": "python",
   "nbconvert_exporter": "python",
   "pygments_lexer": "ipython3",
   "version": "3.7.6"
  }
 },
 "nbformat": 4,
 "nbformat_minor": 4
}
