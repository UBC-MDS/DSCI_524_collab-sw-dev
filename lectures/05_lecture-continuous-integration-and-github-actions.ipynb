{
 "cells": [
  {
   "cell_type": "markdown",
   "metadata": {
    "slideshow": {
     "slide_type": "slide"
    }
   },
   "source": [
    "## DSCI 524 - Collaborative Software Development\n",
    "\n",
    "### Lecture 5: Introductions to Continuous Integration (CI) & GitHub Actions\n",
    "\n",
    "#### 2020-03-09"
   ]
  },
  {
   "cell_type": "markdown",
   "metadata": {
    "slideshow": {
     "slide_type": "slide"
    }
   },
   "source": [
    "## Lecture 5 learning objectives:\n",
    "By the end of this lecture, students should be able to:\n",
    "- [Define continuous integration testing](#Continuous-Integration-(CI))\n",
    "- [Explain why continuous integration testing is superior to manually running tests](#Why-use-CI-+-automated-testing)\n",
    "- [Define the following key concepts that underlie GitHub Actions:](#GitHub-actions)\n",
    "    - Actions\n",
    "    - Workflow\n",
    "    - Event\n",
    "    - Runner\n",
    "    - Job\n",
    "    - Step\n",
    "- Store and use GitHub Actions credentials safely via GitHub Secrets\n",
    "- Use GitHub Actions to set-up automated running of tests by `pytest` upon push to the master branch\n",
    "- Use GitHub Actions to set-up automated running of tests by `testthat` upon push to the master branch"
   ]
  },
  {
   "cell_type": "markdown",
   "metadata": {
    "slideshow": {
     "slide_type": "slide"
    }
   },
   "source": [
    "## Continuous Integration (CI)\n",
    "\n",
    "Defined as the practice of **frequently** integrating code (*e.g.*, several times a day) changes from contributors to a shared repository. Often the submission of code to the shared repository is combined with automated testing (and other things, such as style checking) to increase code dependability and quality."
   ]
  },
  {
   "cell_type": "markdown",
   "metadata": {
    "slideshow": {
     "slide_type": "slide"
    }
   },
   "source": [
    "### Why use CI + automated testing\n",
    "\n",
    "- detects errors sooner\n",
    "- reduces the amount of code to be examined when debugging\n",
    "- facilitates merging\n",
    "- ensures new code additions do not introduce errors"
   ]
  },
  {
   "cell_type": "markdown",
   "metadata": {
    "slideshow": {
     "slide_type": "slide"
    }
   },
   "source": [
    "## GitHub actions\n",
    "\n",
    "A tool and service for automating software development tasks, located in the same place where you already store your code.\n",
    "\n",
    "### Key concepts:\n",
    "**Actions:** Individual tasks you want to perform.\n",
    "\n",
    "**Workflow:** A collection of actions (specified together in one file).\n",
    "\n",
    "**Event:** Something that triggers the running of a workflow.\n",
    "\n",
    "**Runner**: A machine that can run the Github Action(s).\n",
    "\n",
    "**Job**: A set of steps executed on the same runner.\n",
    "\n",
    "**Step**: A set of commands or actions which a job executes."
   ]
  },
  {
   "cell_type": "markdown",
   "metadata": {
    "slideshow": {
     "slide_type": "slide"
    }
   },
   "source": [
    "### GitHub Actions workflow file:\n",
    "\n",
    "A `YAML` file that lives in the `.github/workflows` directory or your repository which speciies your workflow. \n",
    "\n",
    "```\n",
    "# This is a basic workflow to help you get started with Actions\n",
    "\n",
    "name: CI\n",
    "\n",
    "# Controls when the action will run. Triggers the workflow on push or pull request \n",
    "# events but only for the master branch\n",
    "on:\n",
    "  push:\n",
    "    branches: [ master ]\n",
    "  pull_request:\n",
    "    branches: [ master ]\n",
    "\n",
    "# A workflow run is made up of one or more jobs that can run sequentially or in parallel\n",
    "jobs:\n",
    "  # This workflow contains a single job called \"build\"\n",
    "  build:\n",
    "    # The type of runner that the job will run on\n",
    "    runs-on: ubuntu-latest\n",
    "\n",
    "    # Steps represent a sequence of tasks that will be executed as part of the job\n",
    "    steps:\n",
    "    # Checks-out your repository under $GITHUB_WORKSPACE, so your job can access it\n",
    "    - uses: actions/checkout@v2\n",
    "\n",
    "    # Runs a single command using the runners shell\n",
    "    - name: Run a one-line script\n",
    "      run: echo Hello, world!\n",
    "\n",
    "    # Runs a set of commands using the runners shell\n",
    "    - name: Run a multi-line script\n",
    "      run: |\n",
    "        echo Add other actions to build,\n",
    "        echo test, and deploy your project.\n",
    "```"
   ]
  },
  {
   "cell_type": "markdown",
   "metadata": {
    "slideshow": {
     "slide_type": "notes"
    }
   },
   "source": [
    "The file above has:\n",
    "- one job\n",
    "- 3 steps\n",
    "- the type of runner is ubuntu\n",
    "- the first step uses an action, and the following two steps run commands"
   ]
  },
  {
   "cell_type": "markdown",
   "metadata": {
    "slideshow": {
     "slide_type": "slide"
    }
   },
   "source": [
    "### Commands vs actions\n",
    "\n",
    "Steps can consist commands or actions. Let's spend some time to discuss what each of these are and how they differ."
   ]
  },
  {
   "cell_type": "markdown",
   "metadata": {
    "slideshow": {
     "slide_type": "slide"
    }
   },
   "source": [
    "### Commands\n",
    "\n",
    "Steps that use commands look like the one shown below. They consist of a `name` and a `run` parameter. The commands listed after `run` are run in the runner's shell:\n",
    "\n",
    "```\n",
    "- name: Run a one-line script\n",
    "      run: echo Hello, world!\n",
    "```\n",
    "\n",
    "As shown in the file above, we can run multiple commands in a step using the `|` character:\n",
    "```\n",
    "- name: Run a multi-line script\n",
    "      run: |\n",
    "        echo Add other actions to build,\n",
    "        echo test, and deploy your project.\n",
    "```"
   ]
  },
  {
   "cell_type": "markdown",
   "metadata": {
    "slideshow": {
     "slide_type": "slide"
    }
   },
   "source": [
    "### Actions\n",
    "\n",
    "Steps that use actions look like the one shown below. They always have a `uses` parameter, and often also have `name` and `with` parameters. The `uses` parameter specifies which action to use, and the `with` parameters provide arguments to those actions.\n",
    "\n",
    "```\n",
    "- name: checkout\n",
    "      uses: actions/checkout@master\n",
    "      with:\n",
    "        ref: master\n",
    "        fetch-depth: '0'\n",
    "```\n",
    "\n",
    "Actions commonly perform one task in a workflow. They are typically run inside Docker containers on the runner machine. Such actions are defined by:\n",
    "- a Dockerfile\n",
    "- a script to run inside the Docker container\n",
    "\n",
    "For example, for the action above see its:\n",
    "- [Dockerfile]()\n",
    "- [endpoint.sh script]()\n",
    "- [GitHub repo](https://github.com/actions/setup-python)\n",
    "\n",
    "Read the docs here to learn how to build your own Docker container action: <https://help.github.com/en/actions/building-actions/creating-a-docker-container-action>\n",
    "\n",
    "> Note: actions can also be built using javascript, for more info see [here](https://help.github.com/en/actions/building-actions/creating-a-javascript-action)."
   ]
  },
  {
   "cell_type": "markdown",
   "metadata": {
    "slideshow": {
     "slide_type": "slide"
    }
   },
   "source": [
    "### Exercise: Getting to know GitHub Actions\n",
    "\n",
    "We are going to each create our own GitHub Actions workflow. \n",
    "\n",
    "#### Steps:\n",
    "\n",
    "1. Create a new public **GitHub.com** repository.\n",
    "\n",
    "2. Click on the \"Actions\" tab\n",
    "\n",
    "3. Click on the first \"Set up this workflow\" button\n",
    "\n",
    "    <img src=\"img/gh-actions-setup.png\" width=600>\n",
    "\n",
    "4. Click on the two green commit buttons to add this workflow file\n",
    "\n",
    "5. Go to the \"Actions\" tab and look at the build logs by following these instructions:\n",
    "\n",
    "    Click on the message associated with the event that created the action:\n",
    "    \n",
    "    <img src=\"img/check-logs1.png\" width=600>\n",
    "    \n",
    "    Click on the build link:\n",
    "    \n",
    "    <img src=\"img/check-logs2.png\" width=600>\n",
    "    \n",
    "    Click on the arrow inside the build logs to expand a section and see the output of the action:\n",
    "    \n",
    "    <img src=\"img/check-logs3.png\" width=600>\n",
    "\n",
    "\n",
    "**When you are done step #5 indicate so on the [sli.do](https://www.sli.do) poll (`#524-L05`).**"
   ]
  },
  {
   "cell_type": "markdown",
   "metadata": {},
   "source": [
    "## Case study: our Python package `build.yml` workflow:\n",
    "\n",
    "- Let's break down our [`build.yml`](https://github.com/UBC-MDS/cookiecutter-ubc-mds/blob/master/%7B%7Bcookiecutter.project_slug%7D%7D/.github/workflows/build.yml) workflow file to start to better understand a real use case of GitHub Actions.\n",
    "\n",
    "```\n",
    "name: build\n",
    "\n",
    "on: [push, pull_request]\n",
    "\n",
    "jobs:\n",
    "  build:\n",
    "    runs-on: ubuntu-latest\n",
    "    strategy:\n",
    "      matrix:\n",
    "        python-version: [3.7, 3.8]\n",
    "    steps:\n",
    "    - uses: actions/checkout@v2\n",
    "    - name: Set up Python ${{ matrix.python-version }}\n",
    "      uses: actions/setup-python@v1\n",
    "      with:\n",
    "        python-version: ${{ matrix.python-version }}\n",
    "    - name: Install dependencies\n",
    "      env:\n",
    "        POETRY_VIRTUALENVS_CREATE: false\n",
    "      run: |\n",
    "        pip install poetry\n",
    "        poetry install\n",
    "    - name: Check style\n",
    "      run: poetry run flake8 --exclude=docs*\n",
    "    - name: Test with pytest\n",
    "      run: |\n",
    "        poetry run pytest --cov=./ --cov-report=xml\n",
    "    - name: Upload coverage to Codecov  \n",
    "      uses: codecov/codecov-action@v1\n",
    "      with:\n",
    "        token: ${{ secrets.CODECOV_TOKEN }}\n",
    "        file: ./coverage.xml\n",
    "        flags: unittests\n",
    "        name: codecov-umbrella\n",
    "        yml: ./codecov.yml \n",
    "        fail_ci_if_error: true\n",
    "```"
   ]
  },
  {
   "cell_type": "markdown",
   "metadata": {},
   "source": [
    "### Exercise: Orientating ourselves with the `build.yml` workflow\n",
    "\n",
    "Let's answer the following questions to start better understanding the `build.yml` workflow.\n",
    "\n",
    "1. How many jobs are there?\n",
    "\n",
    "2. How many steps are there?\n",
    "\n",
    "3. What which steps are actions and which are commands\n",
    "\n",
    "4. What is the type of runner"
   ]
  },
  {
   "cell_type": "markdown",
   "metadata": {},
   "source": []
  },
  {
   "cell_type": "markdown",
   "metadata": {
    "slideshow": {
     "slide_type": "slide"
    }
   },
   "source": [
    "### Curated list of awesome actions to use on GitHub 🎉\n",
    "\n",
    "- <https://github.com/sdras/awesome-actions>"
   ]
  },
  {
   "cell_type": "markdown",
   "metadata": {},
   "source": []
  },
  {
   "cell_type": "markdown",
   "metadata": {},
   "source": []
  },
  {
   "cell_type": "markdown",
   "metadata": {},
   "source": []
  },
  {
   "cell_type": "markdown",
   "metadata": {},
   "source": []
  },
  {
   "cell_type": "markdown",
   "metadata": {},
   "source": []
  },
  {
   "cell_type": "markdown",
   "metadata": {},
   "source": []
  },
  {
   "cell_type": "markdown",
   "metadata": {},
   "source": []
  },
  {
   "cell_type": "markdown",
   "metadata": {},
   "source": []
  },
  {
   "cell_type": "markdown",
   "metadata": {},
   "source": []
  },
  {
   "cell_type": "markdown",
   "metadata": {},
   "source": []
  }
 ],
 "metadata": {
  "celltoolbar": "Slideshow",
  "kernelspec": {
   "display_name": "Python 3",
   "language": "python",
   "name": "python3"
  },
  "language_info": {
   "codemirror_mode": {
    "name": "ipython",
    "version": 3
   },
   "file_extension": ".py",
   "mimetype": "text/x-python",
   "name": "python",
   "nbconvert_exporter": "python",
   "pygments_lexer": "ipython3",
   "version": "3.7.6"
  }
 },
 "nbformat": 4,
 "nbformat_minor": 4
}
